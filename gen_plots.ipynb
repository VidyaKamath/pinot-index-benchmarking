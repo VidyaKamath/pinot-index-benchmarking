{
 "cells": [
  {
   "cell_type": "code",
   "execution_count": 3,
   "metadata": {},
   "outputs": [],
   "source": [
    "from pathlib import Path\n",
    "import plotly.graph_objects as go\n",
    "import pandas as pd\n",
    "import plotly.express as px\n",
    "\n",
    "RES_FILE = Path('results_basic.csv')"
   ]
  },
  {
   "cell_type": "code",
   "execution_count": 4,
   "metadata": {},
   "outputs": [],
   "source": [
    "res_df = pd.read_csv(RES_FILE)"
   ]
  },
  {
   "cell_type": "code",
   "execution_count": 48,
   "metadata": {},
   "outputs": [
    {
     "data": {
      "text/html": [
       "<div>\n",
       "<style scoped>\n",
       "    .dataframe tbody tr th:only-of-type {\n",
       "        vertical-align: middle;\n",
       "    }\n",
       "\n",
       "    .dataframe tbody tr th {\n",
       "        vertical-align: top;\n",
       "    }\n",
       "\n",
       "    .dataframe thead th {\n",
       "        text-align: right;\n",
       "    }\n",
       "</style>\n",
       "<table border=\"1\" class=\"dataframe\">\n",
       "  <thead>\n",
       "    <tr style=\"text-align: right;\">\n",
       "      <th></th>\n",
       "      <th>name</th>\n",
       "      <th>table</th>\n",
       "      <th>run_name</th>\n",
       "      <th>time</th>\n",
       "    </tr>\n",
       "  </thead>\n",
       "  <tbody>\n",
       "    <tr>\n",
       "      <th>0</th>\n",
       "      <td>gb_filt_sel_0</td>\n",
       "      <td>tpch_lineitem_1g_star_idx_10</td>\n",
       "      <td>run_0</td>\n",
       "      <td>0.027474</td>\n",
       "    </tr>\n",
       "    <tr>\n",
       "      <th>1</th>\n",
       "      <td>gb_filt_sel_0</td>\n",
       "      <td>tpch_lineitem_1g_star_idx_10</td>\n",
       "      <td>run_1</td>\n",
       "      <td>0.041474</td>\n",
       "    </tr>\n",
       "    <tr>\n",
       "      <th>2</th>\n",
       "      <td>gb_filt_sel_0</td>\n",
       "      <td>tpch_lineitem_1g_star_idx_10</td>\n",
       "      <td>run_2</td>\n",
       "      <td>0.020661</td>\n",
       "    </tr>\n",
       "    <tr>\n",
       "      <th>3</th>\n",
       "      <td>gb_filt_sel_0</td>\n",
       "      <td>tpch_lineitem_1g_star_idx_10</td>\n",
       "      <td>run_3</td>\n",
       "      <td>0.020788</td>\n",
       "    </tr>\n",
       "    <tr>\n",
       "      <th>4</th>\n",
       "      <td>gb_filt_sel_0</td>\n",
       "      <td>tpch_lineitem_1g_star_idx_10</td>\n",
       "      <td>run_4</td>\n",
       "      <td>0.033759</td>\n",
       "    </tr>\n",
       "    <tr>\n",
       "      <th>...</th>\n",
       "      <td>...</td>\n",
       "      <td>...</td>\n",
       "      <td>...</td>\n",
       "      <td>...</td>\n",
       "    </tr>\n",
       "    <tr>\n",
       "      <th>835</th>\n",
       "      <td>distinct</td>\n",
       "      <td>tpch_lineitem_1g_star_idx_10000</td>\n",
       "      <td>run_5</td>\n",
       "      <td>0.023776</td>\n",
       "    </tr>\n",
       "    <tr>\n",
       "      <th>836</th>\n",
       "      <td>distinct</td>\n",
       "      <td>tpch_lineitem_1g_star_idx_10000</td>\n",
       "      <td>run_6</td>\n",
       "      <td>0.022142</td>\n",
       "    </tr>\n",
       "    <tr>\n",
       "      <th>837</th>\n",
       "      <td>distinct</td>\n",
       "      <td>tpch_lineitem_1g_star_idx_10000</td>\n",
       "      <td>run_7</td>\n",
       "      <td>0.019235</td>\n",
       "    </tr>\n",
       "    <tr>\n",
       "      <th>838</th>\n",
       "      <td>distinct</td>\n",
       "      <td>tpch_lineitem_1g_star_idx_10000</td>\n",
       "      <td>run_8</td>\n",
       "      <td>0.018291</td>\n",
       "    </tr>\n",
       "    <tr>\n",
       "      <th>839</th>\n",
       "      <td>distinct</td>\n",
       "      <td>tpch_lineitem_1g_star_idx_10000</td>\n",
       "      <td>run_9</td>\n",
       "      <td>0.023427</td>\n",
       "    </tr>\n",
       "  </tbody>\n",
       "</table>\n",
       "<p>840 rows × 4 columns</p>\n",
       "</div>"
      ],
      "text/plain": [
       "              name                            table run_name      time\n",
       "0    gb_filt_sel_0     tpch_lineitem_1g_star_idx_10    run_0  0.027474\n",
       "1    gb_filt_sel_0     tpch_lineitem_1g_star_idx_10    run_1  0.041474\n",
       "2    gb_filt_sel_0     tpch_lineitem_1g_star_idx_10    run_2  0.020661\n",
       "3    gb_filt_sel_0     tpch_lineitem_1g_star_idx_10    run_3  0.020788\n",
       "4    gb_filt_sel_0     tpch_lineitem_1g_star_idx_10    run_4  0.033759\n",
       "..             ...                              ...      ...       ...\n",
       "835       distinct  tpch_lineitem_1g_star_idx_10000    run_5  0.023776\n",
       "836       distinct  tpch_lineitem_1g_star_idx_10000    run_6  0.022142\n",
       "837       distinct  tpch_lineitem_1g_star_idx_10000    run_7  0.019235\n",
       "838       distinct  tpch_lineitem_1g_star_idx_10000    run_8  0.018291\n",
       "839       distinct  tpch_lineitem_1g_star_idx_10000    run_9  0.023427\n",
       "\n",
       "[840 rows x 4 columns]"
      ]
     },
     "execution_count": 48,
     "metadata": {},
     "output_type": "execute_result"
    }
   ],
   "source": [
    "res_df"
   ]
  },
  {
   "cell_type": "code",
   "execution_count": 5,
   "metadata": {},
   "outputs": [],
   "source": [
    "def handle_sel_results(res_df: pd.DataFrame):\n",
    "    # filter res_df by table name\n",
    "    # split df into multiple dfs by table name\n",
    "    sel_df = res_df[res_df['name'].str.contains('sel')].copy()\n",
    "    sel_df['sel'] = (sel_df['name'].str.rsplit('_', n=1).str[-1]).astype(int)\n",
    "    lg = go.Figure()\n",
    "    tablenames = sel_df['table'].unique()\n",
    "    for table in tablenames:\n",
    "        df = sel_df[sel_df['table'] == table]\n",
    "        df = df.sort_values(by=['sel', 'run_name'])\n",
    "        times: pd.DataFrame = df.groupby('sel', as_index=False)['time'].min()\n",
    "        # only keep multiples of 20\n",
    "        # times = times.loc[times['sel'] % 20 == 0]\n",
    "        print(df, times)\n",
    "        lg.add_trace(go.Line(x=times['sel'], y=times['time'], name=table.removeprefix('tpch_lineitem_')))\n",
    "        # break\n",
    "        # # fig = px.line(df, x='size', y='time', title=f'{table} - Time vs Size')\n",
    "        # # fig.show()\n",
    "    lg.show()\n"
   ]
  },
  {
   "cell_type": "code",
   "execution_count": null,
   "metadata": {},
   "outputs": [],
   "source": [
    "def st_basic_res(res_df: pd.DataFrame):\n",
    "    res_df = res_df[~res_df['name'].str.contains('sel')].copy()\n",
    "    res_df = res_df[res_df['name'].isin(['agg', 'distinct', 'filt_1', 'filt_3', 'gb_1'])]\n",
    "    tablenames = res_df['table'].unique()\n",
    "    fig = go.Figure()\n",
    "    for table in tablenames:\n",
    "        if \"1g\" in table:\n",
    "            # skip 1g for now\n",
    "            continue\n",
    "        df = res_df[res_df['table'] == table]\n",
    "        df = df.sort_values(by=['name', 'run_name'])\n",
    "        times: pd.DataFrame = df.groupby('name', as_index=False)['time'].mean()\n",
    "        print(df, times)\n",
    "        fig.add_trace(go.Line(x=times['name'], y=times['time'], name=table.removeprefix('tpch_lineitem_')))\n",
    "    fig.show()"
   ]
  },
  {
   "cell_type": "code",
   "execution_count": 59,
   "metadata": {},
   "outputs": [],
   "source": [
    "def basic_res(res_df: pd.DataFrame):\n",
    "    res_df = res_df[~res_df['name'].str.contains('sel')].copy()\n",
    "    res_df = res_df[res_df['name'].isin(['agg', 'distinct', 'filt_1', 'filt_3', 'gb_1'])]\n",
    "    # replace gb_1 with gb and filt_3 with filt_2\n",
    "    res_df['name'] = res_df['name'].replace({'gb_1': 'gb', 'filt_3': 'filt_2'})\n",
    "    st_table = \"tpch_lineitem_10g\"\n",
    "    no_idx_table = \"tpch_lineitem_10g_no_idx\"\n",
    "\n",
    "    no_idx_df = res_df[res_df['table'] == no_idx_table]\n",
    "    no_idx_df = no_idx_df.sort_values(by=['name', 'run_name'])\n",
    "    no_idx_times: pd.DataFrame = no_idx_df.groupby('name', as_index=False)['time'].mean()\n",
    "    \n",
    "    st_df = res_df[res_df['table'] == st_table]\n",
    "    st_df = st_df.sort_values(by=['name', 'run_name'])\n",
    "    st_times: pd.DataFrame = st_df.groupby('name', as_index=False)['time'].mean()\n",
    "    speedup = no_idx_times['time'] / st_times['time']\n",
    "    print(st_times, no_idx_times, speedup)\n",
    "    fig = px.bar(x=st_times['name'], y=speedup, labels={'x': 'Query', 'y': 'Speedup'}, title='Speedup of StarTree vs No Index')\n",
    "    fig.show()\n",
    "    fig.update_layout(title=\"\", margin=go.layout.Margin(\n",
    "            l=5, #left margin\n",
    "            r=5, #right margin\n",
    "            b=5, #bottom margin\n",
    "            t=5  #top margin\n",
    "        )\n",
    "    )\n",
    "    img = fig.to_image(format=\"pdf\", width=400, height=300)\n",
    "    with open('st_speedup.pdf', 'wb') as f:\n",
    "        f.write(img)\n",
    "\n"
   ]
  },
  {
   "cell_type": "code",
   "execution_count": 60,
   "metadata": {},
   "outputs": [
    {
     "name": "stdout",
     "output_type": "stream",
     "text": [
      "       name      time\n",
      "0       agg  0.024960\n",
      "1  distinct  0.030302\n",
      "2    filt_1  1.024111\n",
      "3    filt_2  0.023830\n",
      "4        gb  0.022517        name      time\n",
      "0       agg  1.010281\n",
      "1  distinct  0.022088\n",
      "2    filt_1  1.104487\n",
      "3    filt_2  0.382184\n",
      "4        gb  0.577332 0    40.475507\n",
      "1     0.728929\n",
      "2     1.078483\n",
      "3    16.038199\n",
      "4    25.639836\n",
      "Name: time, dtype: float64\n"
     ]
    },
    {
     "data": {
      "application/vnd.plotly.v1+json": {
       "config": {
        "plotlyServerURL": "https://plot.ly"
       },
       "data": [
        {
         "alignmentgroup": "True",
         "hovertemplate": "Query=%{x}<br>Speedup=%{y}<extra></extra>",
         "legendgroup": "",
         "marker": {
          "color": "#636efa",
          "pattern": {
           "shape": ""
          }
         },
         "name": "",
         "offsetgroup": "",
         "orientation": "v",
         "showlegend": false,
         "textposition": "auto",
         "type": "bar",
         "x": [
          "agg",
          "distinct",
          "filt_1",
          "filt_2",
          "gb"
         ],
         "xaxis": "x",
         "y": [
          40.47550651392533,
          0.7289293652510863,
          1.0784830283987108,
          16.038198672316273,
          25.639836049430887
         ],
         "yaxis": "y"
        }
       ],
       "layout": {
        "barmode": "relative",
        "legend": {
         "tracegroupgap": 0
        },
        "template": {
         "data": {
          "bar": [
           {
            "error_x": {
             "color": "#2a3f5f"
            },
            "error_y": {
             "color": "#2a3f5f"
            },
            "marker": {
             "line": {
              "color": "#E5ECF6",
              "width": 0.5
             },
             "pattern": {
              "fillmode": "overlay",
              "size": 10,
              "solidity": 0.2
             }
            },
            "type": "bar"
           }
          ],
          "barpolar": [
           {
            "marker": {
             "line": {
              "color": "#E5ECF6",
              "width": 0.5
             },
             "pattern": {
              "fillmode": "overlay",
              "size": 10,
              "solidity": 0.2
             }
            },
            "type": "barpolar"
           }
          ],
          "carpet": [
           {
            "aaxis": {
             "endlinecolor": "#2a3f5f",
             "gridcolor": "white",
             "linecolor": "white",
             "minorgridcolor": "white",
             "startlinecolor": "#2a3f5f"
            },
            "baxis": {
             "endlinecolor": "#2a3f5f",
             "gridcolor": "white",
             "linecolor": "white",
             "minorgridcolor": "white",
             "startlinecolor": "#2a3f5f"
            },
            "type": "carpet"
           }
          ],
          "choropleth": [
           {
            "colorbar": {
             "outlinewidth": 0,
             "ticks": ""
            },
            "type": "choropleth"
           }
          ],
          "contour": [
           {
            "colorbar": {
             "outlinewidth": 0,
             "ticks": ""
            },
            "colorscale": [
             [
              0,
              "#0d0887"
             ],
             [
              0.1111111111111111,
              "#46039f"
             ],
             [
              0.2222222222222222,
              "#7201a8"
             ],
             [
              0.3333333333333333,
              "#9c179e"
             ],
             [
              0.4444444444444444,
              "#bd3786"
             ],
             [
              0.5555555555555556,
              "#d8576b"
             ],
             [
              0.6666666666666666,
              "#ed7953"
             ],
             [
              0.7777777777777778,
              "#fb9f3a"
             ],
             [
              0.8888888888888888,
              "#fdca26"
             ],
             [
              1,
              "#f0f921"
             ]
            ],
            "type": "contour"
           }
          ],
          "contourcarpet": [
           {
            "colorbar": {
             "outlinewidth": 0,
             "ticks": ""
            },
            "type": "contourcarpet"
           }
          ],
          "heatmap": [
           {
            "colorbar": {
             "outlinewidth": 0,
             "ticks": ""
            },
            "colorscale": [
             [
              0,
              "#0d0887"
             ],
             [
              0.1111111111111111,
              "#46039f"
             ],
             [
              0.2222222222222222,
              "#7201a8"
             ],
             [
              0.3333333333333333,
              "#9c179e"
             ],
             [
              0.4444444444444444,
              "#bd3786"
             ],
             [
              0.5555555555555556,
              "#d8576b"
             ],
             [
              0.6666666666666666,
              "#ed7953"
             ],
             [
              0.7777777777777778,
              "#fb9f3a"
             ],
             [
              0.8888888888888888,
              "#fdca26"
             ],
             [
              1,
              "#f0f921"
             ]
            ],
            "type": "heatmap"
           }
          ],
          "heatmapgl": [
           {
            "colorbar": {
             "outlinewidth": 0,
             "ticks": ""
            },
            "colorscale": [
             [
              0,
              "#0d0887"
             ],
             [
              0.1111111111111111,
              "#46039f"
             ],
             [
              0.2222222222222222,
              "#7201a8"
             ],
             [
              0.3333333333333333,
              "#9c179e"
             ],
             [
              0.4444444444444444,
              "#bd3786"
             ],
             [
              0.5555555555555556,
              "#d8576b"
             ],
             [
              0.6666666666666666,
              "#ed7953"
             ],
             [
              0.7777777777777778,
              "#fb9f3a"
             ],
             [
              0.8888888888888888,
              "#fdca26"
             ],
             [
              1,
              "#f0f921"
             ]
            ],
            "type": "heatmapgl"
           }
          ],
          "histogram": [
           {
            "marker": {
             "pattern": {
              "fillmode": "overlay",
              "size": 10,
              "solidity": 0.2
             }
            },
            "type": "histogram"
           }
          ],
          "histogram2d": [
           {
            "colorbar": {
             "outlinewidth": 0,
             "ticks": ""
            },
            "colorscale": [
             [
              0,
              "#0d0887"
             ],
             [
              0.1111111111111111,
              "#46039f"
             ],
             [
              0.2222222222222222,
              "#7201a8"
             ],
             [
              0.3333333333333333,
              "#9c179e"
             ],
             [
              0.4444444444444444,
              "#bd3786"
             ],
             [
              0.5555555555555556,
              "#d8576b"
             ],
             [
              0.6666666666666666,
              "#ed7953"
             ],
             [
              0.7777777777777778,
              "#fb9f3a"
             ],
             [
              0.8888888888888888,
              "#fdca26"
             ],
             [
              1,
              "#f0f921"
             ]
            ],
            "type": "histogram2d"
           }
          ],
          "histogram2dcontour": [
           {
            "colorbar": {
             "outlinewidth": 0,
             "ticks": ""
            },
            "colorscale": [
             [
              0,
              "#0d0887"
             ],
             [
              0.1111111111111111,
              "#46039f"
             ],
             [
              0.2222222222222222,
              "#7201a8"
             ],
             [
              0.3333333333333333,
              "#9c179e"
             ],
             [
              0.4444444444444444,
              "#bd3786"
             ],
             [
              0.5555555555555556,
              "#d8576b"
             ],
             [
              0.6666666666666666,
              "#ed7953"
             ],
             [
              0.7777777777777778,
              "#fb9f3a"
             ],
             [
              0.8888888888888888,
              "#fdca26"
             ],
             [
              1,
              "#f0f921"
             ]
            ],
            "type": "histogram2dcontour"
           }
          ],
          "mesh3d": [
           {
            "colorbar": {
             "outlinewidth": 0,
             "ticks": ""
            },
            "type": "mesh3d"
           }
          ],
          "parcoords": [
           {
            "line": {
             "colorbar": {
              "outlinewidth": 0,
              "ticks": ""
             }
            },
            "type": "parcoords"
           }
          ],
          "pie": [
           {
            "automargin": true,
            "type": "pie"
           }
          ],
          "scatter": [
           {
            "fillpattern": {
             "fillmode": "overlay",
             "size": 10,
             "solidity": 0.2
            },
            "type": "scatter"
           }
          ],
          "scatter3d": [
           {
            "line": {
             "colorbar": {
              "outlinewidth": 0,
              "ticks": ""
             }
            },
            "marker": {
             "colorbar": {
              "outlinewidth": 0,
              "ticks": ""
             }
            },
            "type": "scatter3d"
           }
          ],
          "scattercarpet": [
           {
            "marker": {
             "colorbar": {
              "outlinewidth": 0,
              "ticks": ""
             }
            },
            "type": "scattercarpet"
           }
          ],
          "scattergeo": [
           {
            "marker": {
             "colorbar": {
              "outlinewidth": 0,
              "ticks": ""
             }
            },
            "type": "scattergeo"
           }
          ],
          "scattergl": [
           {
            "marker": {
             "colorbar": {
              "outlinewidth": 0,
              "ticks": ""
             }
            },
            "type": "scattergl"
           }
          ],
          "scattermapbox": [
           {
            "marker": {
             "colorbar": {
              "outlinewidth": 0,
              "ticks": ""
             }
            },
            "type": "scattermapbox"
           }
          ],
          "scatterpolar": [
           {
            "marker": {
             "colorbar": {
              "outlinewidth": 0,
              "ticks": ""
             }
            },
            "type": "scatterpolar"
           }
          ],
          "scatterpolargl": [
           {
            "marker": {
             "colorbar": {
              "outlinewidth": 0,
              "ticks": ""
             }
            },
            "type": "scatterpolargl"
           }
          ],
          "scatterternary": [
           {
            "marker": {
             "colorbar": {
              "outlinewidth": 0,
              "ticks": ""
             }
            },
            "type": "scatterternary"
           }
          ],
          "surface": [
           {
            "colorbar": {
             "outlinewidth": 0,
             "ticks": ""
            },
            "colorscale": [
             [
              0,
              "#0d0887"
             ],
             [
              0.1111111111111111,
              "#46039f"
             ],
             [
              0.2222222222222222,
              "#7201a8"
             ],
             [
              0.3333333333333333,
              "#9c179e"
             ],
             [
              0.4444444444444444,
              "#bd3786"
             ],
             [
              0.5555555555555556,
              "#d8576b"
             ],
             [
              0.6666666666666666,
              "#ed7953"
             ],
             [
              0.7777777777777778,
              "#fb9f3a"
             ],
             [
              0.8888888888888888,
              "#fdca26"
             ],
             [
              1,
              "#f0f921"
             ]
            ],
            "type": "surface"
           }
          ],
          "table": [
           {
            "cells": {
             "fill": {
              "color": "#EBF0F8"
             },
             "line": {
              "color": "white"
             }
            },
            "header": {
             "fill": {
              "color": "#C8D4E3"
             },
             "line": {
              "color": "white"
             }
            },
            "type": "table"
           }
          ]
         },
         "layout": {
          "annotationdefaults": {
           "arrowcolor": "#2a3f5f",
           "arrowhead": 0,
           "arrowwidth": 1
          },
          "autotypenumbers": "strict",
          "coloraxis": {
           "colorbar": {
            "outlinewidth": 0,
            "ticks": ""
           }
          },
          "colorscale": {
           "diverging": [
            [
             0,
             "#8e0152"
            ],
            [
             0.1,
             "#c51b7d"
            ],
            [
             0.2,
             "#de77ae"
            ],
            [
             0.3,
             "#f1b6da"
            ],
            [
             0.4,
             "#fde0ef"
            ],
            [
             0.5,
             "#f7f7f7"
            ],
            [
             0.6,
             "#e6f5d0"
            ],
            [
             0.7,
             "#b8e186"
            ],
            [
             0.8,
             "#7fbc41"
            ],
            [
             0.9,
             "#4d9221"
            ],
            [
             1,
             "#276419"
            ]
           ],
           "sequential": [
            [
             0,
             "#0d0887"
            ],
            [
             0.1111111111111111,
             "#46039f"
            ],
            [
             0.2222222222222222,
             "#7201a8"
            ],
            [
             0.3333333333333333,
             "#9c179e"
            ],
            [
             0.4444444444444444,
             "#bd3786"
            ],
            [
             0.5555555555555556,
             "#d8576b"
            ],
            [
             0.6666666666666666,
             "#ed7953"
            ],
            [
             0.7777777777777778,
             "#fb9f3a"
            ],
            [
             0.8888888888888888,
             "#fdca26"
            ],
            [
             1,
             "#f0f921"
            ]
           ],
           "sequentialminus": [
            [
             0,
             "#0d0887"
            ],
            [
             0.1111111111111111,
             "#46039f"
            ],
            [
             0.2222222222222222,
             "#7201a8"
            ],
            [
             0.3333333333333333,
             "#9c179e"
            ],
            [
             0.4444444444444444,
             "#bd3786"
            ],
            [
             0.5555555555555556,
             "#d8576b"
            ],
            [
             0.6666666666666666,
             "#ed7953"
            ],
            [
             0.7777777777777778,
             "#fb9f3a"
            ],
            [
             0.8888888888888888,
             "#fdca26"
            ],
            [
             1,
             "#f0f921"
            ]
           ]
          },
          "colorway": [
           "#636efa",
           "#EF553B",
           "#00cc96",
           "#ab63fa",
           "#FFA15A",
           "#19d3f3",
           "#FF6692",
           "#B6E880",
           "#FF97FF",
           "#FECB52"
          ],
          "font": {
           "color": "#2a3f5f"
          },
          "geo": {
           "bgcolor": "white",
           "lakecolor": "white",
           "landcolor": "#E5ECF6",
           "showlakes": true,
           "showland": true,
           "subunitcolor": "white"
          },
          "hoverlabel": {
           "align": "left"
          },
          "hovermode": "closest",
          "mapbox": {
           "style": "light"
          },
          "paper_bgcolor": "white",
          "plot_bgcolor": "#E5ECF6",
          "polar": {
           "angularaxis": {
            "gridcolor": "white",
            "linecolor": "white",
            "ticks": ""
           },
           "bgcolor": "#E5ECF6",
           "radialaxis": {
            "gridcolor": "white",
            "linecolor": "white",
            "ticks": ""
           }
          },
          "scene": {
           "xaxis": {
            "backgroundcolor": "#E5ECF6",
            "gridcolor": "white",
            "gridwidth": 2,
            "linecolor": "white",
            "showbackground": true,
            "ticks": "",
            "zerolinecolor": "white"
           },
           "yaxis": {
            "backgroundcolor": "#E5ECF6",
            "gridcolor": "white",
            "gridwidth": 2,
            "linecolor": "white",
            "showbackground": true,
            "ticks": "",
            "zerolinecolor": "white"
           },
           "zaxis": {
            "backgroundcolor": "#E5ECF6",
            "gridcolor": "white",
            "gridwidth": 2,
            "linecolor": "white",
            "showbackground": true,
            "ticks": "",
            "zerolinecolor": "white"
           }
          },
          "shapedefaults": {
           "line": {
            "color": "#2a3f5f"
           }
          },
          "ternary": {
           "aaxis": {
            "gridcolor": "white",
            "linecolor": "white",
            "ticks": ""
           },
           "baxis": {
            "gridcolor": "white",
            "linecolor": "white",
            "ticks": ""
           },
           "bgcolor": "#E5ECF6",
           "caxis": {
            "gridcolor": "white",
            "linecolor": "white",
            "ticks": ""
           }
          },
          "title": {
           "x": 0.05
          },
          "xaxis": {
           "automargin": true,
           "gridcolor": "white",
           "linecolor": "white",
           "ticks": "",
           "title": {
            "standoff": 15
           },
           "zerolinecolor": "white",
           "zerolinewidth": 2
          },
          "yaxis": {
           "automargin": true,
           "gridcolor": "white",
           "linecolor": "white",
           "ticks": "",
           "title": {
            "standoff": 15
           },
           "zerolinecolor": "white",
           "zerolinewidth": 2
          }
         }
        },
        "title": {
         "text": "Speedup of StarTree vs No Index"
        },
        "xaxis": {
         "anchor": "y",
         "domain": [
          0,
          1
         ],
         "title": {
          "text": "Query"
         }
        },
        "yaxis": {
         "anchor": "x",
         "domain": [
          0,
          1
         ],
         "title": {
          "text": "Speedup"
         }
        }
       }
      }
     },
     "metadata": {},
     "output_type": "display_data"
    }
   ],
   "source": [
    "basic_res(res_df)"
   ]
  },
  {
   "cell_type": "code",
   "execution_count": 96,
   "metadata": {},
   "outputs": [
    {
     "name": "stdout",
     "output_type": "stream",
     "text": [
      "          name                         table run_name      time\n",
      "460        agg  tpch_lineitem_1g_star_idx_10    run_0  0.034640\n",
      "461        agg  tpch_lineitem_1g_star_idx_10    run_1  0.028806\n",
      "462        agg  tpch_lineitem_1g_star_idx_10    run_2  0.027788\n",
      "463        agg  tpch_lineitem_1g_star_idx_10    run_3  0.020898\n",
      "464        agg  tpch_lineitem_1g_star_idx_10    run_4  0.030850\n",
      "..         ...                           ...      ...       ...\n",
      "525  gb_filt_2  tpch_lineitem_1g_star_idx_10    run_5  0.024271\n",
      "526  gb_filt_2  tpch_lineitem_1g_star_idx_10    run_6  0.034746\n",
      "527  gb_filt_2  tpch_lineitem_1g_star_idx_10    run_7  0.023344\n",
      "528  gb_filt_2  tpch_lineitem_1g_star_idx_10    run_8  0.028786\n",
      "529  gb_filt_2  tpch_lineitem_1g_star_idx_10    run_9  0.049952\n",
      "\n",
      "[100 rows x 4 columns]         name      time\n",
      "0        agg  0.020898\n",
      "1   distinct  0.018808\n",
      "2     filt_1  0.117274\n",
      "3     filt_2  0.049854\n",
      "4     filt_3  0.019247\n",
      "5     filt_4  0.019280\n",
      "6       gb_1  0.022757\n",
      "7       gb_2  0.021300\n",
      "8  gb_filt_1  0.019531\n",
      "9  gb_filt_2  0.023344\n",
      "          name                          table run_name      time\n",
      "560        agg  tpch_lineitem_1g_star_idx_100    run_0  0.028872\n",
      "561        agg  tpch_lineitem_1g_star_idx_100    run_1  0.039952\n",
      "562        agg  tpch_lineitem_1g_star_idx_100    run_2  0.018901\n",
      "563        agg  tpch_lineitem_1g_star_idx_100    run_3  0.023677\n",
      "564        agg  tpch_lineitem_1g_star_idx_100    run_4  0.024575\n",
      "..         ...                            ...      ...       ...\n",
      "625  gb_filt_2  tpch_lineitem_1g_star_idx_100    run_5  0.021861\n",
      "626  gb_filt_2  tpch_lineitem_1g_star_idx_100    run_6  0.025606\n",
      "627  gb_filt_2  tpch_lineitem_1g_star_idx_100    run_7  0.022979\n",
      "628  gb_filt_2  tpch_lineitem_1g_star_idx_100    run_8  0.024520\n",
      "629  gb_filt_2  tpch_lineitem_1g_star_idx_100    run_9  0.022054\n",
      "\n",
      "[100 rows x 4 columns]         name      time\n",
      "0        agg  0.018901\n",
      "1   distinct  0.019538\n",
      "2     filt_1  0.113032\n",
      "3     filt_2  0.050224\n",
      "4     filt_3  0.020238\n",
      "5     filt_4  0.018359\n",
      "6       gb_1  0.020036\n",
      "7       gb_2  0.022617\n",
      "8  gb_filt_1  0.020626\n",
      "9  gb_filt_2  0.021861\n",
      "          name                           table run_name      time\n",
      "660        agg  tpch_lineitem_1g_star_idx_1000    run_0  0.019430\n",
      "661        agg  tpch_lineitem_1g_star_idx_1000    run_1  0.026693\n",
      "662        agg  tpch_lineitem_1g_star_idx_1000    run_2  0.022113\n",
      "663        agg  tpch_lineitem_1g_star_idx_1000    run_3  0.027180\n",
      "664        agg  tpch_lineitem_1g_star_idx_1000    run_4  0.021323\n",
      "..         ...                             ...      ...       ...\n",
      "725  gb_filt_2  tpch_lineitem_1g_star_idx_1000    run_5  0.023884\n",
      "726  gb_filt_2  tpch_lineitem_1g_star_idx_1000    run_6  0.027878\n",
      "727  gb_filt_2  tpch_lineitem_1g_star_idx_1000    run_7  0.025653\n",
      "728  gb_filt_2  tpch_lineitem_1g_star_idx_1000    run_8  0.025053\n",
      "729  gb_filt_2  tpch_lineitem_1g_star_idx_1000    run_9  0.025003\n",
      "\n",
      "[100 rows x 4 columns]         name      time\n",
      "0        agg  0.019430\n",
      "1   distinct  0.018059\n",
      "2     filt_1  0.113096\n",
      "3     filt_2  0.049581\n",
      "4     filt_3  0.021372\n",
      "5     filt_4  0.020655\n",
      "6       gb_1  0.019653\n",
      "7       gb_2  0.021608\n",
      "8  gb_filt_1  0.019649\n",
      "9  gb_filt_2  0.023884\n",
      "          name                            table run_name      time\n",
      "760        agg  tpch_lineitem_1g_star_idx_10000    run_0  0.022901\n",
      "761        agg  tpch_lineitem_1g_star_idx_10000    run_1  0.022136\n",
      "762        agg  tpch_lineitem_1g_star_idx_10000    run_2  0.019506\n",
      "763        agg  tpch_lineitem_1g_star_idx_10000    run_3  0.024604\n",
      "764        agg  tpch_lineitem_1g_star_idx_10000    run_4  0.021718\n",
      "..         ...                              ...      ...       ...\n",
      "825  gb_filt_2  tpch_lineitem_1g_star_idx_10000    run_5  0.056920\n",
      "826  gb_filt_2  tpch_lineitem_1g_star_idx_10000    run_6  0.021312\n",
      "827  gb_filt_2  tpch_lineitem_1g_star_idx_10000    run_7  0.022539\n",
      "828  gb_filt_2  tpch_lineitem_1g_star_idx_10000    run_8  0.026648\n",
      "829  gb_filt_2  tpch_lineitem_1g_star_idx_10000    run_9  0.046493\n",
      "\n",
      "[100 rows x 4 columns]         name      time\n",
      "0        agg  0.018867\n",
      "1   distinct  0.018291\n",
      "2     filt_1  0.111702\n",
      "3     filt_2  0.049806\n",
      "4     filt_3  0.020915\n",
      "5     filt_4  0.019320\n",
      "6       gb_1  0.018048\n",
      "7       gb_2  0.022115\n",
      "8  gb_filt_1  0.018426\n",
      "9  gb_filt_2  0.021312\n"
     ]
    },
    {
     "data": {
      "application/vnd.plotly.v1+json": {
       "config": {
        "plotlyServerURL": "https://plot.ly"
       },
       "data": [
        {
         "name": "1g_star_idx_10",
         "type": "scatter",
         "x": [
          "agg",
          "distinct",
          "filt_1",
          "filt_2",
          "filt_3",
          "filt_4",
          "gb_1",
          "gb_2",
          "gb_filt_1",
          "gb_filt_2"
         ],
         "y": [
          0.0208981037139892,
          0.0188081264495849,
          0.1172740459442138,
          0.0498535633087158,
          0.0192468166351318,
          0.0192799568176269,
          0.0227570533752441,
          0.0213003158569335,
          0.0195314884185791,
          0.0233442783355712
         ]
        },
        {
         "name": "1g_star_idx_100",
         "type": "scatter",
         "x": [
          "agg",
          "distinct",
          "filt_1",
          "filt_2",
          "filt_3",
          "filt_4",
          "gb_1",
          "gb_2",
          "gb_filt_1",
          "gb_filt_2"
         ],
         "y": [
          0.0189008712768554,
          0.0195376873016357,
          0.1130318641662597,
          0.0502238273620605,
          0.0202383995056152,
          0.0183589458465576,
          0.0200357437133789,
          0.0226168632507324,
          0.0206260681152343,
          0.0218610763549804
         ]
        },
        {
         "name": "1g_star_idx_1000",
         "type": "scatter",
         "x": [
          "agg",
          "distinct",
          "filt_1",
          "filt_2",
          "filt_3",
          "filt_4",
          "gb_1",
          "gb_2",
          "gb_filt_1",
          "gb_filt_2"
         ],
         "y": [
          0.0194301605224609,
          0.0180590152740478,
          0.113095998764038,
          0.0495810508728027,
          0.0213720798492431,
          0.0206549167633056,
          0.0196526050567626,
          0.0216083526611328,
          0.019648790359497,
          0.023883581161499
         ]
        },
        {
         "name": "1g_star_idx_10000",
         "type": "scatter",
         "x": [
          "agg",
          "distinct",
          "filt_1",
          "filt_2",
          "filt_3",
          "filt_4",
          "gb_1",
          "gb_2",
          "gb_filt_1",
          "gb_filt_2"
         ],
         "y": [
          0.0188667774200439,
          0.0182914733886718,
          0.1117017269134521,
          0.0498056411743164,
          0.0209152698516845,
          0.0193202495574951,
          0.01804780960083,
          0.0221145153045654,
          0.0184261798858642,
          0.0213124752044677
         ]
        }
       ],
       "layout": {
        "template": {
         "data": {
          "bar": [
           {
            "error_x": {
             "color": "#2a3f5f"
            },
            "error_y": {
             "color": "#2a3f5f"
            },
            "marker": {
             "line": {
              "color": "#E5ECF6",
              "width": 0.5
             },
             "pattern": {
              "fillmode": "overlay",
              "size": 10,
              "solidity": 0.2
             }
            },
            "type": "bar"
           }
          ],
          "barpolar": [
           {
            "marker": {
             "line": {
              "color": "#E5ECF6",
              "width": 0.5
             },
             "pattern": {
              "fillmode": "overlay",
              "size": 10,
              "solidity": 0.2
             }
            },
            "type": "barpolar"
           }
          ],
          "carpet": [
           {
            "aaxis": {
             "endlinecolor": "#2a3f5f",
             "gridcolor": "white",
             "linecolor": "white",
             "minorgridcolor": "white",
             "startlinecolor": "#2a3f5f"
            },
            "baxis": {
             "endlinecolor": "#2a3f5f",
             "gridcolor": "white",
             "linecolor": "white",
             "minorgridcolor": "white",
             "startlinecolor": "#2a3f5f"
            },
            "type": "carpet"
           }
          ],
          "choropleth": [
           {
            "colorbar": {
             "outlinewidth": 0,
             "ticks": ""
            },
            "type": "choropleth"
           }
          ],
          "contour": [
           {
            "colorbar": {
             "outlinewidth": 0,
             "ticks": ""
            },
            "colorscale": [
             [
              0,
              "#0d0887"
             ],
             [
              0.1111111111111111,
              "#46039f"
             ],
             [
              0.2222222222222222,
              "#7201a8"
             ],
             [
              0.3333333333333333,
              "#9c179e"
             ],
             [
              0.4444444444444444,
              "#bd3786"
             ],
             [
              0.5555555555555556,
              "#d8576b"
             ],
             [
              0.6666666666666666,
              "#ed7953"
             ],
             [
              0.7777777777777778,
              "#fb9f3a"
             ],
             [
              0.8888888888888888,
              "#fdca26"
             ],
             [
              1,
              "#f0f921"
             ]
            ],
            "type": "contour"
           }
          ],
          "contourcarpet": [
           {
            "colorbar": {
             "outlinewidth": 0,
             "ticks": ""
            },
            "type": "contourcarpet"
           }
          ],
          "heatmap": [
           {
            "colorbar": {
             "outlinewidth": 0,
             "ticks": ""
            },
            "colorscale": [
             [
              0,
              "#0d0887"
             ],
             [
              0.1111111111111111,
              "#46039f"
             ],
             [
              0.2222222222222222,
              "#7201a8"
             ],
             [
              0.3333333333333333,
              "#9c179e"
             ],
             [
              0.4444444444444444,
              "#bd3786"
             ],
             [
              0.5555555555555556,
              "#d8576b"
             ],
             [
              0.6666666666666666,
              "#ed7953"
             ],
             [
              0.7777777777777778,
              "#fb9f3a"
             ],
             [
              0.8888888888888888,
              "#fdca26"
             ],
             [
              1,
              "#f0f921"
             ]
            ],
            "type": "heatmap"
           }
          ],
          "heatmapgl": [
           {
            "colorbar": {
             "outlinewidth": 0,
             "ticks": ""
            },
            "colorscale": [
             [
              0,
              "#0d0887"
             ],
             [
              0.1111111111111111,
              "#46039f"
             ],
             [
              0.2222222222222222,
              "#7201a8"
             ],
             [
              0.3333333333333333,
              "#9c179e"
             ],
             [
              0.4444444444444444,
              "#bd3786"
             ],
             [
              0.5555555555555556,
              "#d8576b"
             ],
             [
              0.6666666666666666,
              "#ed7953"
             ],
             [
              0.7777777777777778,
              "#fb9f3a"
             ],
             [
              0.8888888888888888,
              "#fdca26"
             ],
             [
              1,
              "#f0f921"
             ]
            ],
            "type": "heatmapgl"
           }
          ],
          "histogram": [
           {
            "marker": {
             "pattern": {
              "fillmode": "overlay",
              "size": 10,
              "solidity": 0.2
             }
            },
            "type": "histogram"
           }
          ],
          "histogram2d": [
           {
            "colorbar": {
             "outlinewidth": 0,
             "ticks": ""
            },
            "colorscale": [
             [
              0,
              "#0d0887"
             ],
             [
              0.1111111111111111,
              "#46039f"
             ],
             [
              0.2222222222222222,
              "#7201a8"
             ],
             [
              0.3333333333333333,
              "#9c179e"
             ],
             [
              0.4444444444444444,
              "#bd3786"
             ],
             [
              0.5555555555555556,
              "#d8576b"
             ],
             [
              0.6666666666666666,
              "#ed7953"
             ],
             [
              0.7777777777777778,
              "#fb9f3a"
             ],
             [
              0.8888888888888888,
              "#fdca26"
             ],
             [
              1,
              "#f0f921"
             ]
            ],
            "type": "histogram2d"
           }
          ],
          "histogram2dcontour": [
           {
            "colorbar": {
             "outlinewidth": 0,
             "ticks": ""
            },
            "colorscale": [
             [
              0,
              "#0d0887"
             ],
             [
              0.1111111111111111,
              "#46039f"
             ],
             [
              0.2222222222222222,
              "#7201a8"
             ],
             [
              0.3333333333333333,
              "#9c179e"
             ],
             [
              0.4444444444444444,
              "#bd3786"
             ],
             [
              0.5555555555555556,
              "#d8576b"
             ],
             [
              0.6666666666666666,
              "#ed7953"
             ],
             [
              0.7777777777777778,
              "#fb9f3a"
             ],
             [
              0.8888888888888888,
              "#fdca26"
             ],
             [
              1,
              "#f0f921"
             ]
            ],
            "type": "histogram2dcontour"
           }
          ],
          "mesh3d": [
           {
            "colorbar": {
             "outlinewidth": 0,
             "ticks": ""
            },
            "type": "mesh3d"
           }
          ],
          "parcoords": [
           {
            "line": {
             "colorbar": {
              "outlinewidth": 0,
              "ticks": ""
             }
            },
            "type": "parcoords"
           }
          ],
          "pie": [
           {
            "automargin": true,
            "type": "pie"
           }
          ],
          "scatter": [
           {
            "fillpattern": {
             "fillmode": "overlay",
             "size": 10,
             "solidity": 0.2
            },
            "type": "scatter"
           }
          ],
          "scatter3d": [
           {
            "line": {
             "colorbar": {
              "outlinewidth": 0,
              "ticks": ""
             }
            },
            "marker": {
             "colorbar": {
              "outlinewidth": 0,
              "ticks": ""
             }
            },
            "type": "scatter3d"
           }
          ],
          "scattercarpet": [
           {
            "marker": {
             "colorbar": {
              "outlinewidth": 0,
              "ticks": ""
             }
            },
            "type": "scattercarpet"
           }
          ],
          "scattergeo": [
           {
            "marker": {
             "colorbar": {
              "outlinewidth": 0,
              "ticks": ""
             }
            },
            "type": "scattergeo"
           }
          ],
          "scattergl": [
           {
            "marker": {
             "colorbar": {
              "outlinewidth": 0,
              "ticks": ""
             }
            },
            "type": "scattergl"
           }
          ],
          "scattermapbox": [
           {
            "marker": {
             "colorbar": {
              "outlinewidth": 0,
              "ticks": ""
             }
            },
            "type": "scattermapbox"
           }
          ],
          "scatterpolar": [
           {
            "marker": {
             "colorbar": {
              "outlinewidth": 0,
              "ticks": ""
             }
            },
            "type": "scatterpolar"
           }
          ],
          "scatterpolargl": [
           {
            "marker": {
             "colorbar": {
              "outlinewidth": 0,
              "ticks": ""
             }
            },
            "type": "scatterpolargl"
           }
          ],
          "scatterternary": [
           {
            "marker": {
             "colorbar": {
              "outlinewidth": 0,
              "ticks": ""
             }
            },
            "type": "scatterternary"
           }
          ],
          "surface": [
           {
            "colorbar": {
             "outlinewidth": 0,
             "ticks": ""
            },
            "colorscale": [
             [
              0,
              "#0d0887"
             ],
             [
              0.1111111111111111,
              "#46039f"
             ],
             [
              0.2222222222222222,
              "#7201a8"
             ],
             [
              0.3333333333333333,
              "#9c179e"
             ],
             [
              0.4444444444444444,
              "#bd3786"
             ],
             [
              0.5555555555555556,
              "#d8576b"
             ],
             [
              0.6666666666666666,
              "#ed7953"
             ],
             [
              0.7777777777777778,
              "#fb9f3a"
             ],
             [
              0.8888888888888888,
              "#fdca26"
             ],
             [
              1,
              "#f0f921"
             ]
            ],
            "type": "surface"
           }
          ],
          "table": [
           {
            "cells": {
             "fill": {
              "color": "#EBF0F8"
             },
             "line": {
              "color": "white"
             }
            },
            "header": {
             "fill": {
              "color": "#C8D4E3"
             },
             "line": {
              "color": "white"
             }
            },
            "type": "table"
           }
          ]
         },
         "layout": {
          "annotationdefaults": {
           "arrowcolor": "#2a3f5f",
           "arrowhead": 0,
           "arrowwidth": 1
          },
          "autotypenumbers": "strict",
          "coloraxis": {
           "colorbar": {
            "outlinewidth": 0,
            "ticks": ""
           }
          },
          "colorscale": {
           "diverging": [
            [
             0,
             "#8e0152"
            ],
            [
             0.1,
             "#c51b7d"
            ],
            [
             0.2,
             "#de77ae"
            ],
            [
             0.3,
             "#f1b6da"
            ],
            [
             0.4,
             "#fde0ef"
            ],
            [
             0.5,
             "#f7f7f7"
            ],
            [
             0.6,
             "#e6f5d0"
            ],
            [
             0.7,
             "#b8e186"
            ],
            [
             0.8,
             "#7fbc41"
            ],
            [
             0.9,
             "#4d9221"
            ],
            [
             1,
             "#276419"
            ]
           ],
           "sequential": [
            [
             0,
             "#0d0887"
            ],
            [
             0.1111111111111111,
             "#46039f"
            ],
            [
             0.2222222222222222,
             "#7201a8"
            ],
            [
             0.3333333333333333,
             "#9c179e"
            ],
            [
             0.4444444444444444,
             "#bd3786"
            ],
            [
             0.5555555555555556,
             "#d8576b"
            ],
            [
             0.6666666666666666,
             "#ed7953"
            ],
            [
             0.7777777777777778,
             "#fb9f3a"
            ],
            [
             0.8888888888888888,
             "#fdca26"
            ],
            [
             1,
             "#f0f921"
            ]
           ],
           "sequentialminus": [
            [
             0,
             "#0d0887"
            ],
            [
             0.1111111111111111,
             "#46039f"
            ],
            [
             0.2222222222222222,
             "#7201a8"
            ],
            [
             0.3333333333333333,
             "#9c179e"
            ],
            [
             0.4444444444444444,
             "#bd3786"
            ],
            [
             0.5555555555555556,
             "#d8576b"
            ],
            [
             0.6666666666666666,
             "#ed7953"
            ],
            [
             0.7777777777777778,
             "#fb9f3a"
            ],
            [
             0.8888888888888888,
             "#fdca26"
            ],
            [
             1,
             "#f0f921"
            ]
           ]
          },
          "colorway": [
           "#636efa",
           "#EF553B",
           "#00cc96",
           "#ab63fa",
           "#FFA15A",
           "#19d3f3",
           "#FF6692",
           "#B6E880",
           "#FF97FF",
           "#FECB52"
          ],
          "font": {
           "color": "#2a3f5f"
          },
          "geo": {
           "bgcolor": "white",
           "lakecolor": "white",
           "landcolor": "#E5ECF6",
           "showlakes": true,
           "showland": true,
           "subunitcolor": "white"
          },
          "hoverlabel": {
           "align": "left"
          },
          "hovermode": "closest",
          "mapbox": {
           "style": "light"
          },
          "paper_bgcolor": "white",
          "plot_bgcolor": "#E5ECF6",
          "polar": {
           "angularaxis": {
            "gridcolor": "white",
            "linecolor": "white",
            "ticks": ""
           },
           "bgcolor": "#E5ECF6",
           "radialaxis": {
            "gridcolor": "white",
            "linecolor": "white",
            "ticks": ""
           }
          },
          "scene": {
           "xaxis": {
            "backgroundcolor": "#E5ECF6",
            "gridcolor": "white",
            "gridwidth": 2,
            "linecolor": "white",
            "showbackground": true,
            "ticks": "",
            "zerolinecolor": "white"
           },
           "yaxis": {
            "backgroundcolor": "#E5ECF6",
            "gridcolor": "white",
            "gridwidth": 2,
            "linecolor": "white",
            "showbackground": true,
            "ticks": "",
            "zerolinecolor": "white"
           },
           "zaxis": {
            "backgroundcolor": "#E5ECF6",
            "gridcolor": "white",
            "gridwidth": 2,
            "linecolor": "white",
            "showbackground": true,
            "ticks": "",
            "zerolinecolor": "white"
           }
          },
          "shapedefaults": {
           "line": {
            "color": "#2a3f5f"
           }
          },
          "ternary": {
           "aaxis": {
            "gridcolor": "white",
            "linecolor": "white",
            "ticks": ""
           },
           "baxis": {
            "gridcolor": "white",
            "linecolor": "white",
            "ticks": ""
           },
           "bgcolor": "#E5ECF6",
           "caxis": {
            "gridcolor": "white",
            "linecolor": "white",
            "ticks": ""
           }
          },
          "title": {
           "x": 0.05
          },
          "xaxis": {
           "automargin": true,
           "gridcolor": "white",
           "linecolor": "white",
           "ticks": "",
           "title": {
            "standoff": 15
           },
           "zerolinecolor": "white",
           "zerolinewidth": 2
          },
          "yaxis": {
           "automargin": true,
           "gridcolor": "white",
           "linecolor": "white",
           "ticks": "",
           "title": {
            "standoff": 15
           },
           "zerolinecolor": "white",
           "zerolinewidth": 2
          }
         }
        }
       }
      }
     },
     "metadata": {},
     "output_type": "display_data"
    }
   ],
   "source": []
  },
  {
   "cell_type": "markdown",
   "metadata": {},
   "source": [
    "# StarTree Index sizes"
   ]
  },
  {
   "cell_type": "code",
   "execution_count": 62,
   "metadata": {},
   "outputs": [],
   "source": [
    "def extract_st_idx_size(file:Path):\n",
    "    \"\"\"Takes CSV file of the form:\n",
    "    Property,Sizes\n",
    "    0.null.STAR_TREE.SIZE,\"1438573, 309865, 2961549\"\n",
    "    0.l_receiptdate.FORWARD_INDEX.SIZE,\"193607, 94334, 315228\n",
    "    ...\n",
    "    First column is the property name (table column)\n",
    "    And second column is the size of each segment on that server\n",
    "\n",
    "    Returns sum of all sizes across all segments\n",
    "    \"\"\"\n",
    "    df = pd.read_csv(file)\n",
    "    sizes = df['Sizes']\n",
    "    sizes = sizes.str.split(', ')\n",
    "    sizes = sizes.apply(lambda x: sum(map(int, x)))\n",
    "    return sizes.sum()\n",
    "    "
   ]
  },
  {
   "cell_type": "code",
   "execution_count": 63,
   "metadata": {},
   "outputs": [],
   "source": [
    "def extract_threshold(name:str):\n",
    "    \"\"\"1g_star_idx_10_sizes_server1.csv -> 10\"\"\"\n",
    "    return int(name.split('_')[3])"
   ]
  },
  {
   "cell_type": "code",
   "execution_count": 64,
   "metadata": {},
   "outputs": [],
   "source": [
    "from collections import defaultdict"
   ]
  },
  {
   "cell_type": "code",
   "execution_count": 65,
   "metadata": {},
   "outputs": [
    {
     "name": "stdout",
     "output_type": "stream",
     "text": [
      "csv_out_star_T_server_2\n",
      "csv_out_star_T_server_1\n"
     ]
    }
   ],
   "source": [
    "STAR_TREE_SIZES_DIR = Path('results/star_tree_index_size_T/')\n",
    "assert STAR_TREE_SIZES_DIR.exists()\n",
    "\n",
    "sizes = defaultdict(int)\n",
    "\n",
    "for server_dir in STAR_TREE_SIZES_DIR.iterdir():\n",
    "    server_name = server_dir.name\n",
    "    print(server_name)\n",
    "    for file in server_dir.iterdir():\n",
    "        if \"index_map\" in file.name:\n",
    "            continue\n",
    "        threshold = extract_threshold(file.name)\n",
    "        size = extract_st_idx_size(file)\n",
    "        sizes[threshold] += size\n",
    "\n",
    "sizes = dict(sizes)\n",
    "        "
   ]
  },
  {
   "cell_type": "code",
   "execution_count": 66,
   "metadata": {},
   "outputs": [],
   "source": [
    "fig = px.bar(x=list(sizes.keys()), y=list(sizes.values()))\n",
    "fig.update_xaxes(type='category', title='Threshold', rangemode='tozero')\n",
    "fig.update_yaxes(title='Index Size (bytes)', rangemode='tozero')\n",
    "fig.update_layout(title=\"\", margin=go.layout.Margin(\n",
    "        l=5, #left margin\n",
    "        r=5, #right margin\n",
    "        b=5, #bottom margin\n",
    "        t=5  #top margin\n",
    "    )\n",
    ")\n",
    "img = fig.to_image(format=\"pdf\", width=400, height=300)\n",
    "with open('star_tree_index_size.pdf', 'wb') as f:\n",
    "    f.write(img)"
   ]
  },
  {
   "cell_type": "code",
   "execution_count": null,
   "metadata": {},
   "outputs": [],
   "source": []
  }
 ],
 "metadata": {
  "kernelspec": {
   "display_name": "pinot-index-benchmarking-9NES4Gek-py3.11",
   "language": "python",
   "name": "python3"
  },
  "language_info": {
   "codemirror_mode": {
    "name": "ipython",
    "version": 3
   },
   "file_extension": ".py",
   "mimetype": "text/x-python",
   "name": "python",
   "nbconvert_exporter": "python",
   "pygments_lexer": "ipython3",
   "version": "3.11.6"
  }
 },
 "nbformat": 4,
 "nbformat_minor": 2
}
