{
 "cells": [
  {
   "cell_type": "code",
   "execution_count": 67,
   "metadata": {},
   "outputs": [],
   "source": [
    "from pathlib import Path\n",
    "import plotly.graph_objects as go\n",
    "import pandas as pd\n",
    "import plotly.express as px\n",
    "\n",
    "RES_FILE = Path('results_st_10g.csv')"
   ]
  },
  {
   "cell_type": "code",
   "execution_count": 68,
   "metadata": {},
   "outputs": [],
   "source": [
    "res_df = pd.read_csv(RES_FILE)"
   ]
  },
  {
   "cell_type": "code",
   "execution_count": 69,
   "metadata": {},
   "outputs": [
    {
     "data": {
      "text/html": [
       "<div>\n",
       "<style scoped>\n",
       "    .dataframe tbody tr th:only-of-type {\n",
       "        vertical-align: middle;\n",
       "    }\n",
       "\n",
       "    .dataframe tbody tr th {\n",
       "        vertical-align: top;\n",
       "    }\n",
       "\n",
       "    .dataframe thead th {\n",
       "        text-align: right;\n",
       "    }\n",
       "</style>\n",
       "<table border=\"1\" class=\"dataframe\">\n",
       "  <thead>\n",
       "    <tr style=\"text-align: right;\">\n",
       "      <th></th>\n",
       "      <th>name</th>\n",
       "      <th>table</th>\n",
       "      <th>run_name</th>\n",
       "      <th>time</th>\n",
       "    </tr>\n",
       "  </thead>\n",
       "  <tbody>\n",
       "    <tr>\n",
       "      <th>0</th>\n",
       "      <td>filt_1</td>\n",
       "      <td>tpch_lineitem_10g_star_idx_10</td>\n",
       "      <td>run_0</td>\n",
       "      <td>2.337206</td>\n",
       "    </tr>\n",
       "    <tr>\n",
       "      <th>1</th>\n",
       "      <td>filt_1</td>\n",
       "      <td>tpch_lineitem_10g_star_idx_10</td>\n",
       "      <td>run_1</td>\n",
       "      <td>1.051167</td>\n",
       "    </tr>\n",
       "    <tr>\n",
       "      <th>2</th>\n",
       "      <td>filt_1</td>\n",
       "      <td>tpch_lineitem_10g_star_idx_10</td>\n",
       "      <td>run_2</td>\n",
       "      <td>1.040000</td>\n",
       "    </tr>\n",
       "    <tr>\n",
       "      <th>3</th>\n",
       "      <td>filt_1</td>\n",
       "      <td>tpch_lineitem_10g_star_idx_10</td>\n",
       "      <td>run_3</td>\n",
       "      <td>0.975399</td>\n",
       "    </tr>\n",
       "    <tr>\n",
       "      <th>4</th>\n",
       "      <td>filt_1</td>\n",
       "      <td>tpch_lineitem_10g_star_idx_10</td>\n",
       "      <td>run_4</td>\n",
       "      <td>0.987247</td>\n",
       "    </tr>\n",
       "    <tr>\n",
       "      <th>...</th>\n",
       "      <td>...</td>\n",
       "      <td>...</td>\n",
       "      <td>...</td>\n",
       "      <td>...</td>\n",
       "    </tr>\n",
       "    <tr>\n",
       "      <th>395</th>\n",
       "      <td>distinct</td>\n",
       "      <td>tpch_lineitem_10g</td>\n",
       "      <td>run_5</td>\n",
       "      <td>0.026297</td>\n",
       "    </tr>\n",
       "    <tr>\n",
       "      <th>396</th>\n",
       "      <td>distinct</td>\n",
       "      <td>tpch_lineitem_10g</td>\n",
       "      <td>run_6</td>\n",
       "      <td>0.019471</td>\n",
       "    </tr>\n",
       "    <tr>\n",
       "      <th>397</th>\n",
       "      <td>distinct</td>\n",
       "      <td>tpch_lineitem_10g</td>\n",
       "      <td>run_7</td>\n",
       "      <td>0.020604</td>\n",
       "    </tr>\n",
       "    <tr>\n",
       "      <th>398</th>\n",
       "      <td>distinct</td>\n",
       "      <td>tpch_lineitem_10g</td>\n",
       "      <td>run_8</td>\n",
       "      <td>0.021407</td>\n",
       "    </tr>\n",
       "    <tr>\n",
       "      <th>399</th>\n",
       "      <td>distinct</td>\n",
       "      <td>tpch_lineitem_10g</td>\n",
       "      <td>run_9</td>\n",
       "      <td>0.020614</td>\n",
       "    </tr>\n",
       "  </tbody>\n",
       "</table>\n",
       "<p>400 rows × 4 columns</p>\n",
       "</div>"
      ],
      "text/plain": [
       "         name                          table run_name      time\n",
       "0      filt_1  tpch_lineitem_10g_star_idx_10    run_0  2.337206\n",
       "1      filt_1  tpch_lineitem_10g_star_idx_10    run_1  1.051167\n",
       "2      filt_1  tpch_lineitem_10g_star_idx_10    run_2  1.040000\n",
       "3      filt_1  tpch_lineitem_10g_star_idx_10    run_3  0.975399\n",
       "4      filt_1  tpch_lineitem_10g_star_idx_10    run_4  0.987247\n",
       "..        ...                            ...      ...       ...\n",
       "395  distinct              tpch_lineitem_10g    run_5  0.026297\n",
       "396  distinct              tpch_lineitem_10g    run_6  0.019471\n",
       "397  distinct              tpch_lineitem_10g    run_7  0.020604\n",
       "398  distinct              tpch_lineitem_10g    run_8  0.021407\n",
       "399  distinct              tpch_lineitem_10g    run_9  0.020614\n",
       "\n",
       "[400 rows x 4 columns]"
      ]
     },
     "execution_count": 69,
     "metadata": {},
     "output_type": "execute_result"
    }
   ],
   "source": [
    "res_df"
   ]
  },
  {
   "cell_type": "code",
   "execution_count": 5,
   "metadata": {},
   "outputs": [],
   "source": [
    "def handle_sel_results(res_df: pd.DataFrame):\n",
    "    # filter res_df by table name\n",
    "    # split df into multiple dfs by table name\n",
    "    sel_df = res_df[res_df['name'].str.contains('sel')].copy()\n",
    "    sel_df['sel'] = (sel_df['name'].str.rsplit('_', n=1).str[-1]).astype(int)\n",
    "    lg = go.Figure()\n",
    "    tablenames = sel_df['table'].unique()\n",
    "    for table in tablenames:\n",
    "        df = sel_df[sel_df['table'] == table]\n",
    "        df = df.sort_values(by=['sel', 'run_name'])\n",
    "        times: pd.DataFrame = df.groupby('sel', as_index=False)['time'].min()\n",
    "        # only keep multiples of 20\n",
    "        # times = times.loc[times['sel'] % 20 == 0]\n",
    "        print(df, times)\n",
    "        lg.add_trace(go.Line(x=times['sel'], y=times['time'], name=table.removeprefix('tpch_lineitem_')))\n",
    "        # break\n",
    "        # # fig = px.line(df, x='size', y='time', title=f'{table} - Time vs Size')\n",
    "        # # fig.show()\n",
    "    lg.show()\n"
   ]
  },
  {
   "cell_type": "code",
   "execution_count": 78,
   "metadata": {},
   "outputs": [],
   "source": [
    "def st_basic_res(res_df: pd.DataFrame):\n",
    "    res_df = res_df[~res_df['name'].str.contains('sel')].copy()\n",
    "    # res_df = res_df[res_df['name'].isin(['agg', 'distinct', 'filt_1', 'filt_3', 'gb_1'])]\n",
    "    tablenames = res_df['table'].unique()\n",
    "    fig = go.Figure()\n",
    "    for table in tablenames:\n",
    "        if \"1g\" in table:\n",
    "            # skip 1g for now\n",
    "            continue\n",
    "        df = res_df[res_df['table'] == table]\n",
    "        df = df.sort_values(by=['name', 'run_name'])\n",
    "        times: pd.DataFrame = df.groupby('name', as_index=False)['time'].min()\n",
    "        print(df, times)\n",
    "        fig.add_trace(go.Line(x=times['name'], y=times['time'], name=table.removeprefix('tpch_lineitem_')))\n",
    "    fig.show()"
   ]
  },
  {
   "cell_type": "code",
   "execution_count": 70,
   "metadata": {},
   "outputs": [],
   "source": [
    "def basic_res(res_df: pd.DataFrame):\n",
    "    res_df = res_df[~res_df['name'].str.contains('sel')].copy()\n",
    "    res_df = res_df[res_df['name'].isin(['agg', 'distinct', 'filt_1', 'filt_3', 'gb_1'])]\n",
    "    # replace gb_1 with gb and filt_3 with filt_2\n",
    "    res_df['name'] = res_df['name'].replace({'gb_1': 'gb', 'filt_3': 'filt_2'})\n",
    "    st_table = \"tpch_lineitem_10g\"\n",
    "    no_idx_table = \"tpch_lineitem_10g_no_idx\"\n",
    "\n",
    "    no_idx_df = res_df[res_df['table'] == no_idx_table]\n",
    "    no_idx_df = no_idx_df.sort_values(by=['name', 'run_name'])\n",
    "    no_idx_times: pd.DataFrame = no_idx_df.groupby('name', as_index=False)['time'].mean()\n",
    "    \n",
    "    st_df = res_df[res_df['table'] == st_table]\n",
    "    st_df = st_df.sort_values(by=['name', 'run_name'])\n",
    "    st_times: pd.DataFrame = st_df.groupby('name', as_index=False)['time'].mean()\n",
    "    speedup = no_idx_times['time'] / st_times['time']\n",
    "    print(st_times, no_idx_times, speedup)\n",
    "    fig = px.bar(x=st_times['name'], y=speedup, labels={'x': 'Query', 'y': 'Speedup'}, title='Speedup of StarTree vs No Index')\n",
    "    fig.show()\n",
    "    return fig\n"
   ]
  },
  {
   "cell_type": "code",
   "execution_count": 71,
   "metadata": {},
   "outputs": [],
   "source": [
    "def dump_fig(fig, filename):\n",
    "    fig.update_layout(title=\"\", margin=go.layout.Margin(\n",
    "            l=5, #left margin\n",
    "            r=5, #right margin\n",
    "            b=5, #bottom margin\n",
    "            t=5  #top margin\n",
    "        )\n",
    "    )\n",
    "    img = fig.to_image(format=\"pdf\", width=400, height=300)\n",
    "    with open(filename, 'wb') as f:\n",
    "        f.write(img)\n"
   ]
  },
  {
   "cell_type": "code",
   "execution_count": 79,
   "metadata": {},
   "outputs": [
    {
     "name": "stdout",
     "output_type": "stream",
     "text": [
      "         name                          table run_name      time\n",
      "20        agg  tpch_lineitem_10g_star_idx_10    run_0  0.045174\n",
      "21        agg  tpch_lineitem_10g_star_idx_10    run_1  0.020120\n",
      "22        agg  tpch_lineitem_10g_star_idx_10    run_2  0.019650\n",
      "23        agg  tpch_lineitem_10g_star_idx_10    run_3  0.021114\n",
      "24        agg  tpch_lineitem_10g_star_idx_10    run_4  0.021250\n",
      "..        ...                            ...      ...       ...\n",
      "85  gb_filt_2  tpch_lineitem_10g_star_idx_10    run_5  0.022100\n",
      "86  gb_filt_2  tpch_lineitem_10g_star_idx_10    run_6  0.023279\n",
      "87  gb_filt_2  tpch_lineitem_10g_star_idx_10    run_7  0.021680\n",
      "88  gb_filt_2  tpch_lineitem_10g_star_idx_10    run_8  0.023381\n",
      "89  gb_filt_2  tpch_lineitem_10g_star_idx_10    run_9  0.058806\n",
      "\n",
      "[100 rows x 4 columns]         name      time\n",
      "0        agg  0.018844\n",
      "1   distinct  0.019625\n",
      "2     filt_1  0.966617\n",
      "3     filt_2  0.281595\n",
      "4     filt_3  0.019785\n",
      "5     filt_4  0.019585\n",
      "6       gb_1  0.020411\n",
      "7       gb_2  0.020835\n",
      "8  gb_filt_1  0.019766\n",
      "9  gb_filt_2  0.020713\n",
      "          name                            table run_name      time\n",
      "120        agg  tpch_lineitem_10g_star_idx_1000    run_0  0.033204\n",
      "121        agg  tpch_lineitem_10g_star_idx_1000    run_1  0.020092\n",
      "122        agg  tpch_lineitem_10g_star_idx_1000    run_2  0.021641\n",
      "123        agg  tpch_lineitem_10g_star_idx_1000    run_3  0.023206\n",
      "124        agg  tpch_lineitem_10g_star_idx_1000    run_4  0.379075\n",
      "..         ...                              ...      ...       ...\n",
      "185  gb_filt_2  tpch_lineitem_10g_star_idx_1000    run_5  0.055497\n",
      "186  gb_filt_2  tpch_lineitem_10g_star_idx_1000    run_6  0.023238\n",
      "187  gb_filt_2  tpch_lineitem_10g_star_idx_1000    run_7  0.024413\n",
      "188  gb_filt_2  tpch_lineitem_10g_star_idx_1000    run_8  0.024392\n",
      "189  gb_filt_2  tpch_lineitem_10g_star_idx_1000    run_9  0.023440\n",
      "\n",
      "[100 rows x 4 columns]         name      time\n",
      "0        agg  0.019993\n",
      "1   distinct  0.018371\n",
      "2     filt_1  0.922353\n",
      "3     filt_2  0.299546\n",
      "4     filt_3  0.016901\n",
      "5     filt_4  0.019750\n",
      "6       gb_1  0.018920\n",
      "7       gb_2  0.020636\n",
      "8  gb_filt_1  0.017798\n",
      "9  gb_filt_2  0.020483\n",
      "          name                             table run_name      time\n",
      "220        agg  tpch_lineitem_10g_star_idx_10000    run_0  0.022561\n",
      "221        agg  tpch_lineitem_10g_star_idx_10000    run_1  0.022796\n",
      "222        agg  tpch_lineitem_10g_star_idx_10000    run_2  0.055860\n",
      "223        agg  tpch_lineitem_10g_star_idx_10000    run_3  0.019252\n",
      "224        agg  tpch_lineitem_10g_star_idx_10000    run_4  0.021520\n",
      "..         ...                               ...      ...       ...\n",
      "285  gb_filt_2  tpch_lineitem_10g_star_idx_10000    run_5  0.023052\n",
      "286  gb_filt_2  tpch_lineitem_10g_star_idx_10000    run_6  0.025275\n",
      "287  gb_filt_2  tpch_lineitem_10g_star_idx_10000    run_7  0.021757\n",
      "288  gb_filt_2  tpch_lineitem_10g_star_idx_10000    run_8  0.025742\n",
      "289  gb_filt_2  tpch_lineitem_10g_star_idx_10000    run_9  0.026989\n",
      "\n",
      "[100 rows x 4 columns]         name      time\n",
      "0        agg  0.019252\n",
      "1   distinct  0.018396\n",
      "2     filt_1  0.973715\n",
      "3     filt_2  0.302317\n",
      "4     filt_3  0.019138\n",
      "5     filt_4  0.019454\n",
      "6       gb_1  0.019989\n",
      "7       gb_2  0.020657\n",
      "8  gb_filt_1  0.018041\n",
      "9  gb_filt_2  0.021757\n",
      "          name              table run_name      time\n",
      "320        agg  tpch_lineitem_10g    run_0  0.049409\n",
      "321        agg  tpch_lineitem_10g    run_1  0.019572\n",
      "322        agg  tpch_lineitem_10g    run_2  0.020874\n",
      "323        agg  tpch_lineitem_10g    run_3  0.021041\n",
      "324        agg  tpch_lineitem_10g    run_4  0.018514\n",
      "..         ...                ...      ...       ...\n",
      "385  gb_filt_2  tpch_lineitem_10g    run_5  0.021741\n",
      "386  gb_filt_2  tpch_lineitem_10g    run_6  0.063649\n",
      "387  gb_filt_2  tpch_lineitem_10g    run_7  0.020781\n",
      "388  gb_filt_2  tpch_lineitem_10g    run_8  0.020285\n",
      "389  gb_filt_2  tpch_lineitem_10g    run_9  0.023435\n",
      "\n",
      "[100 rows x 4 columns]         name      time\n",
      "0        agg  0.018514\n",
      "1   distinct  0.019471\n",
      "2     filt_1  0.890670\n",
      "3     filt_2  0.303678\n",
      "4     filt_3  0.019348\n",
      "5     filt_4  0.018382\n",
      "6       gb_1  0.018866\n",
      "7       gb_2  0.020468\n",
      "8  gb_filt_1  0.019102\n",
      "9  gb_filt_2  0.019418\n"
     ]
    },
    {
     "name": "stderr",
     "output_type": "stream",
     "text": [
      "/home/kroot/.virtualenvs/pinot-index-benchmarking-9NES4Gek-py3.11/lib/python3.11/site-packages/plotly/graph_objs/_deprecations.py:378: DeprecationWarning:\n",
      "\n",
      "plotly.graph_objs.Line is deprecated.\n",
      "Please replace it with one of the following more specific types\n",
      "  - plotly.graph_objs.scatter.Line\n",
      "  - plotly.graph_objs.layout.shape.Line\n",
      "  - etc.\n",
      "\n",
      "\n",
      "/home/kroot/.virtualenvs/pinot-index-benchmarking-9NES4Gek-py3.11/lib/python3.11/site-packages/plotly/graph_objs/_deprecations.py:378: DeprecationWarning:\n",
      "\n",
      "plotly.graph_objs.Line is deprecated.\n",
      "Please replace it with one of the following more specific types\n",
      "  - plotly.graph_objs.scatter.Line\n",
      "  - plotly.graph_objs.layout.shape.Line\n",
      "  - etc.\n",
      "\n",
      "\n",
      "/home/kroot/.virtualenvs/pinot-index-benchmarking-9NES4Gek-py3.11/lib/python3.11/site-packages/plotly/graph_objs/_deprecations.py:378: DeprecationWarning:\n",
      "\n",
      "plotly.graph_objs.Line is deprecated.\n",
      "Please replace it with one of the following more specific types\n",
      "  - plotly.graph_objs.scatter.Line\n",
      "  - plotly.graph_objs.layout.shape.Line\n",
      "  - etc.\n",
      "\n",
      "\n",
      "/home/kroot/.virtualenvs/pinot-index-benchmarking-9NES4Gek-py3.11/lib/python3.11/site-packages/plotly/graph_objs/_deprecations.py:378: DeprecationWarning:\n",
      "\n",
      "plotly.graph_objs.Line is deprecated.\n",
      "Please replace it with one of the following more specific types\n",
      "  - plotly.graph_objs.scatter.Line\n",
      "  - plotly.graph_objs.layout.shape.Line\n",
      "  - etc.\n",
      "\n",
      "\n"
     ]
    },
    {
     "data": {
      "application/vnd.plotly.v1+json": {
       "config": {
        "plotlyServerURL": "https://plot.ly"
       },
       "data": [
        {
         "name": "10g_star_idx_10",
         "type": "scatter",
         "x": [
          "agg",
          "distinct",
          "filt_1",
          "filt_2",
          "filt_3",
          "filt_4",
          "gb_1",
          "gb_2",
          "gb_filt_1",
          "gb_filt_2"
         ],
         "y": [
          0.0188443660736084,
          0.0196254253387451,
          0.9666168689727784,
          0.281595230102539,
          0.0197851657867431,
          0.0195846557617187,
          0.0204105377197265,
          0.0208349227905273,
          0.0197656154632568,
          0.0207133293151855
         ]
        },
        {
         "name": "10g_star_idx_1000",
         "type": "scatter",
         "x": [
          "agg",
          "distinct",
          "filt_1",
          "filt_2",
          "filt_3",
          "filt_4",
          "gb_1",
          "gb_2",
          "gb_filt_1",
          "gb_filt_2"
         ],
         "y": [
          0.0199933052062988,
          0.0183706283569335,
          0.9223530292510986,
          0.2995457649230957,
          0.0169007778167724,
          0.0197501182556152,
          0.0189199447631835,
          0.0206356048583984,
          0.0177979469299316,
          0.0204834938049316
         ]
        },
        {
         "name": "10g_star_idx_10000",
         "type": "scatter",
         "x": [
          "agg",
          "distinct",
          "filt_1",
          "filt_2",
          "filt_3",
          "filt_4",
          "gb_1",
          "gb_2",
          "gb_filt_1",
          "gb_filt_2"
         ],
         "y": [
          0.0192523002624511,
          0.0183961391448974,
          0.97371506690979,
          0.3023171424865722,
          0.0191376209259033,
          0.0194544792175292,
          0.0199887752532959,
          0.0206565856933593,
          0.0180411338806152,
          0.0217566490173339
         ]
        },
        {
         "name": "10g",
         "type": "scatter",
         "x": [
          "agg",
          "distinct",
          "filt_1",
          "filt_2",
          "filt_3",
          "filt_4",
          "gb_1",
          "gb_2",
          "gb_filt_1",
          "gb_filt_2"
         ],
         "y": [
          0.0185136795043945,
          0.0194714069366455,
          0.8906698226928711,
          0.303678035736084,
          0.01934814453125,
          0.0183820724487304,
          0.0188660621643066,
          0.0204675197601318,
          0.0191023349761962,
          0.0194184780120849
         ]
        }
       ],
       "layout": {
        "template": {
         "data": {
          "bar": [
           {
            "error_x": {
             "color": "#2a3f5f"
            },
            "error_y": {
             "color": "#2a3f5f"
            },
            "marker": {
             "line": {
              "color": "#E5ECF6",
              "width": 0.5
             },
             "pattern": {
              "fillmode": "overlay",
              "size": 10,
              "solidity": 0.2
             }
            },
            "type": "bar"
           }
          ],
          "barpolar": [
           {
            "marker": {
             "line": {
              "color": "#E5ECF6",
              "width": 0.5
             },
             "pattern": {
              "fillmode": "overlay",
              "size": 10,
              "solidity": 0.2
             }
            },
            "type": "barpolar"
           }
          ],
          "carpet": [
           {
            "aaxis": {
             "endlinecolor": "#2a3f5f",
             "gridcolor": "white",
             "linecolor": "white",
             "minorgridcolor": "white",
             "startlinecolor": "#2a3f5f"
            },
            "baxis": {
             "endlinecolor": "#2a3f5f",
             "gridcolor": "white",
             "linecolor": "white",
             "minorgridcolor": "white",
             "startlinecolor": "#2a3f5f"
            },
            "type": "carpet"
           }
          ],
          "choropleth": [
           {
            "colorbar": {
             "outlinewidth": 0,
             "ticks": ""
            },
            "type": "choropleth"
           }
          ],
          "contour": [
           {
            "colorbar": {
             "outlinewidth": 0,
             "ticks": ""
            },
            "colorscale": [
             [
              0,
              "#0d0887"
             ],
             [
              0.1111111111111111,
              "#46039f"
             ],
             [
              0.2222222222222222,
              "#7201a8"
             ],
             [
              0.3333333333333333,
              "#9c179e"
             ],
             [
              0.4444444444444444,
              "#bd3786"
             ],
             [
              0.5555555555555556,
              "#d8576b"
             ],
             [
              0.6666666666666666,
              "#ed7953"
             ],
             [
              0.7777777777777778,
              "#fb9f3a"
             ],
             [
              0.8888888888888888,
              "#fdca26"
             ],
             [
              1,
              "#f0f921"
             ]
            ],
            "type": "contour"
           }
          ],
          "contourcarpet": [
           {
            "colorbar": {
             "outlinewidth": 0,
             "ticks": ""
            },
            "type": "contourcarpet"
           }
          ],
          "heatmap": [
           {
            "colorbar": {
             "outlinewidth": 0,
             "ticks": ""
            },
            "colorscale": [
             [
              0,
              "#0d0887"
             ],
             [
              0.1111111111111111,
              "#46039f"
             ],
             [
              0.2222222222222222,
              "#7201a8"
             ],
             [
              0.3333333333333333,
              "#9c179e"
             ],
             [
              0.4444444444444444,
              "#bd3786"
             ],
             [
              0.5555555555555556,
              "#d8576b"
             ],
             [
              0.6666666666666666,
              "#ed7953"
             ],
             [
              0.7777777777777778,
              "#fb9f3a"
             ],
             [
              0.8888888888888888,
              "#fdca26"
             ],
             [
              1,
              "#f0f921"
             ]
            ],
            "type": "heatmap"
           }
          ],
          "heatmapgl": [
           {
            "colorbar": {
             "outlinewidth": 0,
             "ticks": ""
            },
            "colorscale": [
             [
              0,
              "#0d0887"
             ],
             [
              0.1111111111111111,
              "#46039f"
             ],
             [
              0.2222222222222222,
              "#7201a8"
             ],
             [
              0.3333333333333333,
              "#9c179e"
             ],
             [
              0.4444444444444444,
              "#bd3786"
             ],
             [
              0.5555555555555556,
              "#d8576b"
             ],
             [
              0.6666666666666666,
              "#ed7953"
             ],
             [
              0.7777777777777778,
              "#fb9f3a"
             ],
             [
              0.8888888888888888,
              "#fdca26"
             ],
             [
              1,
              "#f0f921"
             ]
            ],
            "type": "heatmapgl"
           }
          ],
          "histogram": [
           {
            "marker": {
             "pattern": {
              "fillmode": "overlay",
              "size": 10,
              "solidity": 0.2
             }
            },
            "type": "histogram"
           }
          ],
          "histogram2d": [
           {
            "colorbar": {
             "outlinewidth": 0,
             "ticks": ""
            },
            "colorscale": [
             [
              0,
              "#0d0887"
             ],
             [
              0.1111111111111111,
              "#46039f"
             ],
             [
              0.2222222222222222,
              "#7201a8"
             ],
             [
              0.3333333333333333,
              "#9c179e"
             ],
             [
              0.4444444444444444,
              "#bd3786"
             ],
             [
              0.5555555555555556,
              "#d8576b"
             ],
             [
              0.6666666666666666,
              "#ed7953"
             ],
             [
              0.7777777777777778,
              "#fb9f3a"
             ],
             [
              0.8888888888888888,
              "#fdca26"
             ],
             [
              1,
              "#f0f921"
             ]
            ],
            "type": "histogram2d"
           }
          ],
          "histogram2dcontour": [
           {
            "colorbar": {
             "outlinewidth": 0,
             "ticks": ""
            },
            "colorscale": [
             [
              0,
              "#0d0887"
             ],
             [
              0.1111111111111111,
              "#46039f"
             ],
             [
              0.2222222222222222,
              "#7201a8"
             ],
             [
              0.3333333333333333,
              "#9c179e"
             ],
             [
              0.4444444444444444,
              "#bd3786"
             ],
             [
              0.5555555555555556,
              "#d8576b"
             ],
             [
              0.6666666666666666,
              "#ed7953"
             ],
             [
              0.7777777777777778,
              "#fb9f3a"
             ],
             [
              0.8888888888888888,
              "#fdca26"
             ],
             [
              1,
              "#f0f921"
             ]
            ],
            "type": "histogram2dcontour"
           }
          ],
          "mesh3d": [
           {
            "colorbar": {
             "outlinewidth": 0,
             "ticks": ""
            },
            "type": "mesh3d"
           }
          ],
          "parcoords": [
           {
            "line": {
             "colorbar": {
              "outlinewidth": 0,
              "ticks": ""
             }
            },
            "type": "parcoords"
           }
          ],
          "pie": [
           {
            "automargin": true,
            "type": "pie"
           }
          ],
          "scatter": [
           {
            "fillpattern": {
             "fillmode": "overlay",
             "size": 10,
             "solidity": 0.2
            },
            "type": "scatter"
           }
          ],
          "scatter3d": [
           {
            "line": {
             "colorbar": {
              "outlinewidth": 0,
              "ticks": ""
             }
            },
            "marker": {
             "colorbar": {
              "outlinewidth": 0,
              "ticks": ""
             }
            },
            "type": "scatter3d"
           }
          ],
          "scattercarpet": [
           {
            "marker": {
             "colorbar": {
              "outlinewidth": 0,
              "ticks": ""
             }
            },
            "type": "scattercarpet"
           }
          ],
          "scattergeo": [
           {
            "marker": {
             "colorbar": {
              "outlinewidth": 0,
              "ticks": ""
             }
            },
            "type": "scattergeo"
           }
          ],
          "scattergl": [
           {
            "marker": {
             "colorbar": {
              "outlinewidth": 0,
              "ticks": ""
             }
            },
            "type": "scattergl"
           }
          ],
          "scattermapbox": [
           {
            "marker": {
             "colorbar": {
              "outlinewidth": 0,
              "ticks": ""
             }
            },
            "type": "scattermapbox"
           }
          ],
          "scatterpolar": [
           {
            "marker": {
             "colorbar": {
              "outlinewidth": 0,
              "ticks": ""
             }
            },
            "type": "scatterpolar"
           }
          ],
          "scatterpolargl": [
           {
            "marker": {
             "colorbar": {
              "outlinewidth": 0,
              "ticks": ""
             }
            },
            "type": "scatterpolargl"
           }
          ],
          "scatterternary": [
           {
            "marker": {
             "colorbar": {
              "outlinewidth": 0,
              "ticks": ""
             }
            },
            "type": "scatterternary"
           }
          ],
          "surface": [
           {
            "colorbar": {
             "outlinewidth": 0,
             "ticks": ""
            },
            "colorscale": [
             [
              0,
              "#0d0887"
             ],
             [
              0.1111111111111111,
              "#46039f"
             ],
             [
              0.2222222222222222,
              "#7201a8"
             ],
             [
              0.3333333333333333,
              "#9c179e"
             ],
             [
              0.4444444444444444,
              "#bd3786"
             ],
             [
              0.5555555555555556,
              "#d8576b"
             ],
             [
              0.6666666666666666,
              "#ed7953"
             ],
             [
              0.7777777777777778,
              "#fb9f3a"
             ],
             [
              0.8888888888888888,
              "#fdca26"
             ],
             [
              1,
              "#f0f921"
             ]
            ],
            "type": "surface"
           }
          ],
          "table": [
           {
            "cells": {
             "fill": {
              "color": "#EBF0F8"
             },
             "line": {
              "color": "white"
             }
            },
            "header": {
             "fill": {
              "color": "#C8D4E3"
             },
             "line": {
              "color": "white"
             }
            },
            "type": "table"
           }
          ]
         },
         "layout": {
          "annotationdefaults": {
           "arrowcolor": "#2a3f5f",
           "arrowhead": 0,
           "arrowwidth": 1
          },
          "autotypenumbers": "strict",
          "coloraxis": {
           "colorbar": {
            "outlinewidth": 0,
            "ticks": ""
           }
          },
          "colorscale": {
           "diverging": [
            [
             0,
             "#8e0152"
            ],
            [
             0.1,
             "#c51b7d"
            ],
            [
             0.2,
             "#de77ae"
            ],
            [
             0.3,
             "#f1b6da"
            ],
            [
             0.4,
             "#fde0ef"
            ],
            [
             0.5,
             "#f7f7f7"
            ],
            [
             0.6,
             "#e6f5d0"
            ],
            [
             0.7,
             "#b8e186"
            ],
            [
             0.8,
             "#7fbc41"
            ],
            [
             0.9,
             "#4d9221"
            ],
            [
             1,
             "#276419"
            ]
           ],
           "sequential": [
            [
             0,
             "#0d0887"
            ],
            [
             0.1111111111111111,
             "#46039f"
            ],
            [
             0.2222222222222222,
             "#7201a8"
            ],
            [
             0.3333333333333333,
             "#9c179e"
            ],
            [
             0.4444444444444444,
             "#bd3786"
            ],
            [
             0.5555555555555556,
             "#d8576b"
            ],
            [
             0.6666666666666666,
             "#ed7953"
            ],
            [
             0.7777777777777778,
             "#fb9f3a"
            ],
            [
             0.8888888888888888,
             "#fdca26"
            ],
            [
             1,
             "#f0f921"
            ]
           ],
           "sequentialminus": [
            [
             0,
             "#0d0887"
            ],
            [
             0.1111111111111111,
             "#46039f"
            ],
            [
             0.2222222222222222,
             "#7201a8"
            ],
            [
             0.3333333333333333,
             "#9c179e"
            ],
            [
             0.4444444444444444,
             "#bd3786"
            ],
            [
             0.5555555555555556,
             "#d8576b"
            ],
            [
             0.6666666666666666,
             "#ed7953"
            ],
            [
             0.7777777777777778,
             "#fb9f3a"
            ],
            [
             0.8888888888888888,
             "#fdca26"
            ],
            [
             1,
             "#f0f921"
            ]
           ]
          },
          "colorway": [
           "#636efa",
           "#EF553B",
           "#00cc96",
           "#ab63fa",
           "#FFA15A",
           "#19d3f3",
           "#FF6692",
           "#B6E880",
           "#FF97FF",
           "#FECB52"
          ],
          "font": {
           "color": "#2a3f5f"
          },
          "geo": {
           "bgcolor": "white",
           "lakecolor": "white",
           "landcolor": "#E5ECF6",
           "showlakes": true,
           "showland": true,
           "subunitcolor": "white"
          },
          "hoverlabel": {
           "align": "left"
          },
          "hovermode": "closest",
          "mapbox": {
           "style": "light"
          },
          "paper_bgcolor": "white",
          "plot_bgcolor": "#E5ECF6",
          "polar": {
           "angularaxis": {
            "gridcolor": "white",
            "linecolor": "white",
            "ticks": ""
           },
           "bgcolor": "#E5ECF6",
           "radialaxis": {
            "gridcolor": "white",
            "linecolor": "white",
            "ticks": ""
           }
          },
          "scene": {
           "xaxis": {
            "backgroundcolor": "#E5ECF6",
            "gridcolor": "white",
            "gridwidth": 2,
            "linecolor": "white",
            "showbackground": true,
            "ticks": "",
            "zerolinecolor": "white"
           },
           "yaxis": {
            "backgroundcolor": "#E5ECF6",
            "gridcolor": "white",
            "gridwidth": 2,
            "linecolor": "white",
            "showbackground": true,
            "ticks": "",
            "zerolinecolor": "white"
           },
           "zaxis": {
            "backgroundcolor": "#E5ECF6",
            "gridcolor": "white",
            "gridwidth": 2,
            "linecolor": "white",
            "showbackground": true,
            "ticks": "",
            "zerolinecolor": "white"
           }
          },
          "shapedefaults": {
           "line": {
            "color": "#2a3f5f"
           }
          },
          "ternary": {
           "aaxis": {
            "gridcolor": "white",
            "linecolor": "white",
            "ticks": ""
           },
           "baxis": {
            "gridcolor": "white",
            "linecolor": "white",
            "ticks": ""
           },
           "bgcolor": "#E5ECF6",
           "caxis": {
            "gridcolor": "white",
            "linecolor": "white",
            "ticks": ""
           }
          },
          "title": {
           "x": 0.05
          },
          "xaxis": {
           "automargin": true,
           "gridcolor": "white",
           "linecolor": "white",
           "ticks": "",
           "title": {
            "standoff": 15
           },
           "zerolinecolor": "white",
           "zerolinewidth": 2
          },
          "yaxis": {
           "automargin": true,
           "gridcolor": "white",
           "linecolor": "white",
           "ticks": "",
           "title": {
            "standoff": 15
           },
           "zerolinecolor": "white",
           "zerolinewidth": 2
          }
         }
        }
       }
      }
     },
     "metadata": {},
     "output_type": "display_data"
    }
   ],
   "source": [
    "fig = st_basic_res(res_df)"
   ]
  },
  {
   "cell_type": "code",
   "execution_count": 96,
   "metadata": {},
   "outputs": [
    {
     "name": "stdout",
     "output_type": "stream",
     "text": [
      "          name                         table run_name      time\n",
      "460        agg  tpch_lineitem_1g_star_idx_10    run_0  0.034640\n",
      "461        agg  tpch_lineitem_1g_star_idx_10    run_1  0.028806\n",
      "462        agg  tpch_lineitem_1g_star_idx_10    run_2  0.027788\n",
      "463        agg  tpch_lineitem_1g_star_idx_10    run_3  0.020898\n",
      "464        agg  tpch_lineitem_1g_star_idx_10    run_4  0.030850\n",
      "..         ...                           ...      ...       ...\n",
      "525  gb_filt_2  tpch_lineitem_1g_star_idx_10    run_5  0.024271\n",
      "526  gb_filt_2  tpch_lineitem_1g_star_idx_10    run_6  0.034746\n",
      "527  gb_filt_2  tpch_lineitem_1g_star_idx_10    run_7  0.023344\n",
      "528  gb_filt_2  tpch_lineitem_1g_star_idx_10    run_8  0.028786\n",
      "529  gb_filt_2  tpch_lineitem_1g_star_idx_10    run_9  0.049952\n",
      "\n",
      "[100 rows x 4 columns]         name      time\n",
      "0        agg  0.020898\n",
      "1   distinct  0.018808\n",
      "2     filt_1  0.117274\n",
      "3     filt_2  0.049854\n",
      "4     filt_3  0.019247\n",
      "5     filt_4  0.019280\n",
      "6       gb_1  0.022757\n",
      "7       gb_2  0.021300\n",
      "8  gb_filt_1  0.019531\n",
      "9  gb_filt_2  0.023344\n",
      "          name                          table run_name      time\n",
      "560        agg  tpch_lineitem_1g_star_idx_100    run_0  0.028872\n",
      "561        agg  tpch_lineitem_1g_star_idx_100    run_1  0.039952\n",
      "562        agg  tpch_lineitem_1g_star_idx_100    run_2  0.018901\n",
      "563        agg  tpch_lineitem_1g_star_idx_100    run_3  0.023677\n",
      "564        agg  tpch_lineitem_1g_star_idx_100    run_4  0.024575\n",
      "..         ...                            ...      ...       ...\n",
      "625  gb_filt_2  tpch_lineitem_1g_star_idx_100    run_5  0.021861\n",
      "626  gb_filt_2  tpch_lineitem_1g_star_idx_100    run_6  0.025606\n",
      "627  gb_filt_2  tpch_lineitem_1g_star_idx_100    run_7  0.022979\n",
      "628  gb_filt_2  tpch_lineitem_1g_star_idx_100    run_8  0.024520\n",
      "629  gb_filt_2  tpch_lineitem_1g_star_idx_100    run_9  0.022054\n",
      "\n",
      "[100 rows x 4 columns]         name      time\n",
      "0        agg  0.018901\n",
      "1   distinct  0.019538\n",
      "2     filt_1  0.113032\n",
      "3     filt_2  0.050224\n",
      "4     filt_3  0.020238\n",
      "5     filt_4  0.018359\n",
      "6       gb_1  0.020036\n",
      "7       gb_2  0.022617\n",
      "8  gb_filt_1  0.020626\n",
      "9  gb_filt_2  0.021861\n",
      "          name                           table run_name      time\n",
      "660        agg  tpch_lineitem_1g_star_idx_1000    run_0  0.019430\n",
      "661        agg  tpch_lineitem_1g_star_idx_1000    run_1  0.026693\n",
      "662        agg  tpch_lineitem_1g_star_idx_1000    run_2  0.022113\n",
      "663        agg  tpch_lineitem_1g_star_idx_1000    run_3  0.027180\n",
      "664        agg  tpch_lineitem_1g_star_idx_1000    run_4  0.021323\n",
      "..         ...                             ...      ...       ...\n",
      "725  gb_filt_2  tpch_lineitem_1g_star_idx_1000    run_5  0.023884\n",
      "726  gb_filt_2  tpch_lineitem_1g_star_idx_1000    run_6  0.027878\n",
      "727  gb_filt_2  tpch_lineitem_1g_star_idx_1000    run_7  0.025653\n",
      "728  gb_filt_2  tpch_lineitem_1g_star_idx_1000    run_8  0.025053\n",
      "729  gb_filt_2  tpch_lineitem_1g_star_idx_1000    run_9  0.025003\n",
      "\n",
      "[100 rows x 4 columns]         name      time\n",
      "0        agg  0.019430\n",
      "1   distinct  0.018059\n",
      "2     filt_1  0.113096\n",
      "3     filt_2  0.049581\n",
      "4     filt_3  0.021372\n",
      "5     filt_4  0.020655\n",
      "6       gb_1  0.019653\n",
      "7       gb_2  0.021608\n",
      "8  gb_filt_1  0.019649\n",
      "9  gb_filt_2  0.023884\n",
      "          name                            table run_name      time\n",
      "760        agg  tpch_lineitem_1g_star_idx_10000    run_0  0.022901\n",
      "761        agg  tpch_lineitem_1g_star_idx_10000    run_1  0.022136\n",
      "762        agg  tpch_lineitem_1g_star_idx_10000    run_2  0.019506\n",
      "763        agg  tpch_lineitem_1g_star_idx_10000    run_3  0.024604\n",
      "764        agg  tpch_lineitem_1g_star_idx_10000    run_4  0.021718\n",
      "..         ...                              ...      ...       ...\n",
      "825  gb_filt_2  tpch_lineitem_1g_star_idx_10000    run_5  0.056920\n",
      "826  gb_filt_2  tpch_lineitem_1g_star_idx_10000    run_6  0.021312\n",
      "827  gb_filt_2  tpch_lineitem_1g_star_idx_10000    run_7  0.022539\n",
      "828  gb_filt_2  tpch_lineitem_1g_star_idx_10000    run_8  0.026648\n",
      "829  gb_filt_2  tpch_lineitem_1g_star_idx_10000    run_9  0.046493\n",
      "\n",
      "[100 rows x 4 columns]         name      time\n",
      "0        agg  0.018867\n",
      "1   distinct  0.018291\n",
      "2     filt_1  0.111702\n",
      "3     filt_2  0.049806\n",
      "4     filt_3  0.020915\n",
      "5     filt_4  0.019320\n",
      "6       gb_1  0.018048\n",
      "7       gb_2  0.022115\n",
      "8  gb_filt_1  0.018426\n",
      "9  gb_filt_2  0.021312\n"
     ]
    },
    {
     "data": {
      "application/vnd.plotly.v1+json": {
       "config": {
        "plotlyServerURL": "https://plot.ly"
       },
       "data": [
        {
         "name": "1g_star_idx_10",
         "type": "scatter",
         "x": [
          "agg",
          "distinct",
          "filt_1",
          "filt_2",
          "filt_3",
          "filt_4",
          "gb_1",
          "gb_2",
          "gb_filt_1",
          "gb_filt_2"
         ],
         "y": [
          0.0208981037139892,
          0.0188081264495849,
          0.1172740459442138,
          0.0498535633087158,
          0.0192468166351318,
          0.0192799568176269,
          0.0227570533752441,
          0.0213003158569335,
          0.0195314884185791,
          0.0233442783355712
         ]
        },
        {
         "name": "1g_star_idx_100",
         "type": "scatter",
         "x": [
          "agg",
          "distinct",
          "filt_1",
          "filt_2",
          "filt_3",
          "filt_4",
          "gb_1",
          "gb_2",
          "gb_filt_1",
          "gb_filt_2"
         ],
         "y": [
          0.0189008712768554,
          0.0195376873016357,
          0.1130318641662597,
          0.0502238273620605,
          0.0202383995056152,
          0.0183589458465576,
          0.0200357437133789,
          0.0226168632507324,
          0.0206260681152343,
          0.0218610763549804
         ]
        },
        {
         "name": "1g_star_idx_1000",
         "type": "scatter",
         "x": [
          "agg",
          "distinct",
          "filt_1",
          "filt_2",
          "filt_3",
          "filt_4",
          "gb_1",
          "gb_2",
          "gb_filt_1",
          "gb_filt_2"
         ],
         "y": [
          0.0194301605224609,
          0.0180590152740478,
          0.113095998764038,
          0.0495810508728027,
          0.0213720798492431,
          0.0206549167633056,
          0.0196526050567626,
          0.0216083526611328,
          0.019648790359497,
          0.023883581161499
         ]
        },
        {
         "name": "1g_star_idx_10000",
         "type": "scatter",
         "x": [
          "agg",
          "distinct",
          "filt_1",
          "filt_2",
          "filt_3",
          "filt_4",
          "gb_1",
          "gb_2",
          "gb_filt_1",
          "gb_filt_2"
         ],
         "y": [
          0.0188667774200439,
          0.0182914733886718,
          0.1117017269134521,
          0.0498056411743164,
          0.0209152698516845,
          0.0193202495574951,
          0.01804780960083,
          0.0221145153045654,
          0.0184261798858642,
          0.0213124752044677
         ]
        }
       ],
       "layout": {
        "template": {
         "data": {
          "bar": [
           {
            "error_x": {
             "color": "#2a3f5f"
            },
            "error_y": {
             "color": "#2a3f5f"
            },
            "marker": {
             "line": {
              "color": "#E5ECF6",
              "width": 0.5
             },
             "pattern": {
              "fillmode": "overlay",
              "size": 10,
              "solidity": 0.2
             }
            },
            "type": "bar"
           }
          ],
          "barpolar": [
           {
            "marker": {
             "line": {
              "color": "#E5ECF6",
              "width": 0.5
             },
             "pattern": {
              "fillmode": "overlay",
              "size": 10,
              "solidity": 0.2
             }
            },
            "type": "barpolar"
           }
          ],
          "carpet": [
           {
            "aaxis": {
             "endlinecolor": "#2a3f5f",
             "gridcolor": "white",
             "linecolor": "white",
             "minorgridcolor": "white",
             "startlinecolor": "#2a3f5f"
            },
            "baxis": {
             "endlinecolor": "#2a3f5f",
             "gridcolor": "white",
             "linecolor": "white",
             "minorgridcolor": "white",
             "startlinecolor": "#2a3f5f"
            },
            "type": "carpet"
           }
          ],
          "choropleth": [
           {
            "colorbar": {
             "outlinewidth": 0,
             "ticks": ""
            },
            "type": "choropleth"
           }
          ],
          "contour": [
           {
            "colorbar": {
             "outlinewidth": 0,
             "ticks": ""
            },
            "colorscale": [
             [
              0,
              "#0d0887"
             ],
             [
              0.1111111111111111,
              "#46039f"
             ],
             [
              0.2222222222222222,
              "#7201a8"
             ],
             [
              0.3333333333333333,
              "#9c179e"
             ],
             [
              0.4444444444444444,
              "#bd3786"
             ],
             [
              0.5555555555555556,
              "#d8576b"
             ],
             [
              0.6666666666666666,
              "#ed7953"
             ],
             [
              0.7777777777777778,
              "#fb9f3a"
             ],
             [
              0.8888888888888888,
              "#fdca26"
             ],
             [
              1,
              "#f0f921"
             ]
            ],
            "type": "contour"
           }
          ],
          "contourcarpet": [
           {
            "colorbar": {
             "outlinewidth": 0,
             "ticks": ""
            },
            "type": "contourcarpet"
           }
          ],
          "heatmap": [
           {
            "colorbar": {
             "outlinewidth": 0,
             "ticks": ""
            },
            "colorscale": [
             [
              0,
              "#0d0887"
             ],
             [
              0.1111111111111111,
              "#46039f"
             ],
             [
              0.2222222222222222,
              "#7201a8"
             ],
             [
              0.3333333333333333,
              "#9c179e"
             ],
             [
              0.4444444444444444,
              "#bd3786"
             ],
             [
              0.5555555555555556,
              "#d8576b"
             ],
             [
              0.6666666666666666,
              "#ed7953"
             ],
             [
              0.7777777777777778,
              "#fb9f3a"
             ],
             [
              0.8888888888888888,
              "#fdca26"
             ],
             [
              1,
              "#f0f921"
             ]
            ],
            "type": "heatmap"
           }
          ],
          "heatmapgl": [
           {
            "colorbar": {
             "outlinewidth": 0,
             "ticks": ""
            },
            "colorscale": [
             [
              0,
              "#0d0887"
             ],
             [
              0.1111111111111111,
              "#46039f"
             ],
             [
              0.2222222222222222,
              "#7201a8"
             ],
             [
              0.3333333333333333,
              "#9c179e"
             ],
             [
              0.4444444444444444,
              "#bd3786"
             ],
             [
              0.5555555555555556,
              "#d8576b"
             ],
             [
              0.6666666666666666,
              "#ed7953"
             ],
             [
              0.7777777777777778,
              "#fb9f3a"
             ],
             [
              0.8888888888888888,
              "#fdca26"
             ],
             [
              1,
              "#f0f921"
             ]
            ],
            "type": "heatmapgl"
           }
          ],
          "histogram": [
           {
            "marker": {
             "pattern": {
              "fillmode": "overlay",
              "size": 10,
              "solidity": 0.2
             }
            },
            "type": "histogram"
           }
          ],
          "histogram2d": [
           {
            "colorbar": {
             "outlinewidth": 0,
             "ticks": ""
            },
            "colorscale": [
             [
              0,
              "#0d0887"
             ],
             [
              0.1111111111111111,
              "#46039f"
             ],
             [
              0.2222222222222222,
              "#7201a8"
             ],
             [
              0.3333333333333333,
              "#9c179e"
             ],
             [
              0.4444444444444444,
              "#bd3786"
             ],
             [
              0.5555555555555556,
              "#d8576b"
             ],
             [
              0.6666666666666666,
              "#ed7953"
             ],
             [
              0.7777777777777778,
              "#fb9f3a"
             ],
             [
              0.8888888888888888,
              "#fdca26"
             ],
             [
              1,
              "#f0f921"
             ]
            ],
            "type": "histogram2d"
           }
          ],
          "histogram2dcontour": [
           {
            "colorbar": {
             "outlinewidth": 0,
             "ticks": ""
            },
            "colorscale": [
             [
              0,
              "#0d0887"
             ],
             [
              0.1111111111111111,
              "#46039f"
             ],
             [
              0.2222222222222222,
              "#7201a8"
             ],
             [
              0.3333333333333333,
              "#9c179e"
             ],
             [
              0.4444444444444444,
              "#bd3786"
             ],
             [
              0.5555555555555556,
              "#d8576b"
             ],
             [
              0.6666666666666666,
              "#ed7953"
             ],
             [
              0.7777777777777778,
              "#fb9f3a"
             ],
             [
              0.8888888888888888,
              "#fdca26"
             ],
             [
              1,
              "#f0f921"
             ]
            ],
            "type": "histogram2dcontour"
           }
          ],
          "mesh3d": [
           {
            "colorbar": {
             "outlinewidth": 0,
             "ticks": ""
            },
            "type": "mesh3d"
           }
          ],
          "parcoords": [
           {
            "line": {
             "colorbar": {
              "outlinewidth": 0,
              "ticks": ""
             }
            },
            "type": "parcoords"
           }
          ],
          "pie": [
           {
            "automargin": true,
            "type": "pie"
           }
          ],
          "scatter": [
           {
            "fillpattern": {
             "fillmode": "overlay",
             "size": 10,
             "solidity": 0.2
            },
            "type": "scatter"
           }
          ],
          "scatter3d": [
           {
            "line": {
             "colorbar": {
              "outlinewidth": 0,
              "ticks": ""
             }
            },
            "marker": {
             "colorbar": {
              "outlinewidth": 0,
              "ticks": ""
             }
            },
            "type": "scatter3d"
           }
          ],
          "scattercarpet": [
           {
            "marker": {
             "colorbar": {
              "outlinewidth": 0,
              "ticks": ""
             }
            },
            "type": "scattercarpet"
           }
          ],
          "scattergeo": [
           {
            "marker": {
             "colorbar": {
              "outlinewidth": 0,
              "ticks": ""
             }
            },
            "type": "scattergeo"
           }
          ],
          "scattergl": [
           {
            "marker": {
             "colorbar": {
              "outlinewidth": 0,
              "ticks": ""
             }
            },
            "type": "scattergl"
           }
          ],
          "scattermapbox": [
           {
            "marker": {
             "colorbar": {
              "outlinewidth": 0,
              "ticks": ""
             }
            },
            "type": "scattermapbox"
           }
          ],
          "scatterpolar": [
           {
            "marker": {
             "colorbar": {
              "outlinewidth": 0,
              "ticks": ""
             }
            },
            "type": "scatterpolar"
           }
          ],
          "scatterpolargl": [
           {
            "marker": {
             "colorbar": {
              "outlinewidth": 0,
              "ticks": ""
             }
            },
            "type": "scatterpolargl"
           }
          ],
          "scatterternary": [
           {
            "marker": {
             "colorbar": {
              "outlinewidth": 0,
              "ticks": ""
             }
            },
            "type": "scatterternary"
           }
          ],
          "surface": [
           {
            "colorbar": {
             "outlinewidth": 0,
             "ticks": ""
            },
            "colorscale": [
             [
              0,
              "#0d0887"
             ],
             [
              0.1111111111111111,
              "#46039f"
             ],
             [
              0.2222222222222222,
              "#7201a8"
             ],
             [
              0.3333333333333333,
              "#9c179e"
             ],
             [
              0.4444444444444444,
              "#bd3786"
             ],
             [
              0.5555555555555556,
              "#d8576b"
             ],
             [
              0.6666666666666666,
              "#ed7953"
             ],
             [
              0.7777777777777778,
              "#fb9f3a"
             ],
             [
              0.8888888888888888,
              "#fdca26"
             ],
             [
              1,
              "#f0f921"
             ]
            ],
            "type": "surface"
           }
          ],
          "table": [
           {
            "cells": {
             "fill": {
              "color": "#EBF0F8"
             },
             "line": {
              "color": "white"
             }
            },
            "header": {
             "fill": {
              "color": "#C8D4E3"
             },
             "line": {
              "color": "white"
             }
            },
            "type": "table"
           }
          ]
         },
         "layout": {
          "annotationdefaults": {
           "arrowcolor": "#2a3f5f",
           "arrowhead": 0,
           "arrowwidth": 1
          },
          "autotypenumbers": "strict",
          "coloraxis": {
           "colorbar": {
            "outlinewidth": 0,
            "ticks": ""
           }
          },
          "colorscale": {
           "diverging": [
            [
             0,
             "#8e0152"
            ],
            [
             0.1,
             "#c51b7d"
            ],
            [
             0.2,
             "#de77ae"
            ],
            [
             0.3,
             "#f1b6da"
            ],
            [
             0.4,
             "#fde0ef"
            ],
            [
             0.5,
             "#f7f7f7"
            ],
            [
             0.6,
             "#e6f5d0"
            ],
            [
             0.7,
             "#b8e186"
            ],
            [
             0.8,
             "#7fbc41"
            ],
            [
             0.9,
             "#4d9221"
            ],
            [
             1,
             "#276419"
            ]
           ],
           "sequential": [
            [
             0,
             "#0d0887"
            ],
            [
             0.1111111111111111,
             "#46039f"
            ],
            [
             0.2222222222222222,
             "#7201a8"
            ],
            [
             0.3333333333333333,
             "#9c179e"
            ],
            [
             0.4444444444444444,
             "#bd3786"
            ],
            [
             0.5555555555555556,
             "#d8576b"
            ],
            [
             0.6666666666666666,
             "#ed7953"
            ],
            [
             0.7777777777777778,
             "#fb9f3a"
            ],
            [
             0.8888888888888888,
             "#fdca26"
            ],
            [
             1,
             "#f0f921"
            ]
           ],
           "sequentialminus": [
            [
             0,
             "#0d0887"
            ],
            [
             0.1111111111111111,
             "#46039f"
            ],
            [
             0.2222222222222222,
             "#7201a8"
            ],
            [
             0.3333333333333333,
             "#9c179e"
            ],
            [
             0.4444444444444444,
             "#bd3786"
            ],
            [
             0.5555555555555556,
             "#d8576b"
            ],
            [
             0.6666666666666666,
             "#ed7953"
            ],
            [
             0.7777777777777778,
             "#fb9f3a"
            ],
            [
             0.8888888888888888,
             "#fdca26"
            ],
            [
             1,
             "#f0f921"
            ]
           ]
          },
          "colorway": [
           "#636efa",
           "#EF553B",
           "#00cc96",
           "#ab63fa",
           "#FFA15A",
           "#19d3f3",
           "#FF6692",
           "#B6E880",
           "#FF97FF",
           "#FECB52"
          ],
          "font": {
           "color": "#2a3f5f"
          },
          "geo": {
           "bgcolor": "white",
           "lakecolor": "white",
           "landcolor": "#E5ECF6",
           "showlakes": true,
           "showland": true,
           "subunitcolor": "white"
          },
          "hoverlabel": {
           "align": "left"
          },
          "hovermode": "closest",
          "mapbox": {
           "style": "light"
          },
          "paper_bgcolor": "white",
          "plot_bgcolor": "#E5ECF6",
          "polar": {
           "angularaxis": {
            "gridcolor": "white",
            "linecolor": "white",
            "ticks": ""
           },
           "bgcolor": "#E5ECF6",
           "radialaxis": {
            "gridcolor": "white",
            "linecolor": "white",
            "ticks": ""
           }
          },
          "scene": {
           "xaxis": {
            "backgroundcolor": "#E5ECF6",
            "gridcolor": "white",
            "gridwidth": 2,
            "linecolor": "white",
            "showbackground": true,
            "ticks": "",
            "zerolinecolor": "white"
           },
           "yaxis": {
            "backgroundcolor": "#E5ECF6",
            "gridcolor": "white",
            "gridwidth": 2,
            "linecolor": "white",
            "showbackground": true,
            "ticks": "",
            "zerolinecolor": "white"
           },
           "zaxis": {
            "backgroundcolor": "#E5ECF6",
            "gridcolor": "white",
            "gridwidth": 2,
            "linecolor": "white",
            "showbackground": true,
            "ticks": "",
            "zerolinecolor": "white"
           }
          },
          "shapedefaults": {
           "line": {
            "color": "#2a3f5f"
           }
          },
          "ternary": {
           "aaxis": {
            "gridcolor": "white",
            "linecolor": "white",
            "ticks": ""
           },
           "baxis": {
            "gridcolor": "white",
            "linecolor": "white",
            "ticks": ""
           },
           "bgcolor": "#E5ECF6",
           "caxis": {
            "gridcolor": "white",
            "linecolor": "white",
            "ticks": ""
           }
          },
          "title": {
           "x": 0.05
          },
          "xaxis": {
           "automargin": true,
           "gridcolor": "white",
           "linecolor": "white",
           "ticks": "",
           "title": {
            "standoff": 15
           },
           "zerolinecolor": "white",
           "zerolinewidth": 2
          },
          "yaxis": {
           "automargin": true,
           "gridcolor": "white",
           "linecolor": "white",
           "ticks": "",
           "title": {
            "standoff": 15
           },
           "zerolinecolor": "white",
           "zerolinewidth": 2
          }
         }
        }
       }
      }
     },
     "metadata": {},
     "output_type": "display_data"
    }
   ],
   "source": []
  },
  {
   "cell_type": "markdown",
   "metadata": {},
   "source": [
    "# StarTree Index sizes"
   ]
  },
  {
   "cell_type": "code",
   "execution_count": 62,
   "metadata": {},
   "outputs": [],
   "source": [
    "def extract_st_idx_size(file:Path):\n",
    "    \"\"\"Takes CSV file of the form:\n",
    "    Property,Sizes\n",
    "    0.null.STAR_TREE.SIZE,\"1438573, 309865, 2961549\"\n",
    "    0.l_receiptdate.FORWARD_INDEX.SIZE,\"193607, 94334, 315228\n",
    "    ...\n",
    "    First column is the property name (table column)\n",
    "    And second column is the size of each segment on that server\n",
    "\n",
    "    Returns sum of all sizes across all segments\n",
    "    \"\"\"\n",
    "    df = pd.read_csv(file)\n",
    "    sizes = df['Sizes']\n",
    "    sizes = sizes.str.split(', ')\n",
    "    sizes = sizes.apply(lambda x: sum(map(int, x)))\n",
    "    return sizes.sum()\n",
    "    "
   ]
  },
  {
   "cell_type": "code",
   "execution_count": 63,
   "metadata": {},
   "outputs": [],
   "source": [
    "def extract_threshold(name:str):\n",
    "    \"\"\"1g_star_idx_10_sizes_server1.csv -> 10\"\"\"\n",
    "    return int(name.split('_')[3])"
   ]
  },
  {
   "cell_type": "code",
   "execution_count": 64,
   "metadata": {},
   "outputs": [],
   "source": [
    "from collections import defaultdict"
   ]
  },
  {
   "cell_type": "code",
   "execution_count": 65,
   "metadata": {},
   "outputs": [
    {
     "name": "stdout",
     "output_type": "stream",
     "text": [
      "csv_out_star_T_server_2\n",
      "csv_out_star_T_server_1\n"
     ]
    }
   ],
   "source": [
    "STAR_TREE_SIZES_DIR = Path('results/star_tree_index_size_T/')\n",
    "assert STAR_TREE_SIZES_DIR.exists()\n",
    "\n",
    "sizes = defaultdict(int)\n",
    "\n",
    "for server_dir in STAR_TREE_SIZES_DIR.iterdir():\n",
    "    server_name = server_dir.name\n",
    "    print(server_name)\n",
    "    for file in server_dir.iterdir():\n",
    "        if \"index_map\" in file.name:\n",
    "            continue\n",
    "        threshold = extract_threshold(file.name)\n",
    "        size = extract_st_idx_size(file)\n",
    "        sizes[threshold] += size\n",
    "\n",
    "sizes = dict(sizes)\n",
    "        "
   ]
  },
  {
   "cell_type": "code",
   "execution_count": 66,
   "metadata": {},
   "outputs": [],
   "source": [
    "fig = px.bar(x=list(sizes.keys()), y=list(sizes.values()))\n",
    "fig.update_xaxes(type='category', title='Threshold', rangemode='tozero')\n",
    "fig.update_yaxes(title='Index Size (bytes)', rangemode='tozero')\n",
    "fig.update_layout(title=\"\", margin=go.layout.Margin(\n",
    "        l=5, #left margin\n",
    "        r=5, #right margin\n",
    "        b=5, #bottom margin\n",
    "        t=5  #top margin\n",
    "    )\n",
    ")\n",
    "img = fig.to_image(format=\"pdf\", width=400, height=300)\n",
    "with open('star_tree_index_size.pdf', 'wb') as f:\n",
    "    f.write(img)"
   ]
  },
  {
   "cell_type": "code",
   "execution_count": null,
   "metadata": {},
   "outputs": [],
   "source": []
  }
 ],
 "metadata": {
  "kernelspec": {
   "display_name": "pinot-index-benchmarking-9NES4Gek-py3.11",
   "language": "python",
   "name": "python3"
  },
  "language_info": {
   "codemirror_mode": {
    "name": "ipython",
    "version": 3
   },
   "file_extension": ".py",
   "mimetype": "text/x-python",
   "name": "python",
   "nbconvert_exporter": "python",
   "pygments_lexer": "ipython3",
   "version": "3.11.6"
  }
 },
 "nbformat": 4,
 "nbformat_minor": 2
}
