{
 "cells": [
  {
   "cell_type": "code",
   "execution_count": 1,
   "metadata": {},
   "outputs": [],
   "source": [
    "from pathlib import Path\n",
    "import plotly.graph_objects as go\n",
    "import pandas as pd\n",
    "import plotly.express as px\n",
    "\n",
    "RES_FILE = Path('results.csv')"
   ]
  },
  {
   "cell_type": "code",
   "execution_count": 11,
   "metadata": {},
   "outputs": [],
   "source": [
    "res_df = pd.read_csv(RES_FILE)"
   ]
  },
  {
   "cell_type": "code",
   "execution_count": 3,
   "metadata": {},
   "outputs": [
    {
     "data": {
      "text/html": [
       "<div>\n",
       "<style scoped>\n",
       "    .dataframe tbody tr th:only-of-type {\n",
       "        vertical-align: middle;\n",
       "    }\n",
       "\n",
       "    .dataframe tbody tr th {\n",
       "        vertical-align: top;\n",
       "    }\n",
       "\n",
       "    .dataframe thead th {\n",
       "        text-align: right;\n",
       "    }\n",
       "</style>\n",
       "<table border=\"1\" class=\"dataframe\">\n",
       "  <thead>\n",
       "    <tr style=\"text-align: right;\">\n",
       "      <th></th>\n",
       "      <th>name</th>\n",
       "      <th>table</th>\n",
       "      <th>run_name</th>\n",
       "      <th>time</th>\n",
       "    </tr>\n",
       "  </thead>\n",
       "  <tbody>\n",
       "    <tr>\n",
       "      <th>0</th>\n",
       "      <td>gb_filt_sel_0</td>\n",
       "      <td>tpch_lineitem_1g_no_idx</td>\n",
       "      <td>run_0</td>\n",
       "      <td>0.043674</td>\n",
       "    </tr>\n",
       "    <tr>\n",
       "      <th>1</th>\n",
       "      <td>gb_filt_sel_0</td>\n",
       "      <td>tpch_lineitem_1g_no_idx</td>\n",
       "      <td>run_1</td>\n",
       "      <td>0.022029</td>\n",
       "    </tr>\n",
       "    <tr>\n",
       "      <th>2</th>\n",
       "      <td>gb_filt_sel_0</td>\n",
       "      <td>tpch_lineitem_1g_no_idx</td>\n",
       "      <td>run_2</td>\n",
       "      <td>0.021127</td>\n",
       "    </tr>\n",
       "    <tr>\n",
       "      <th>3</th>\n",
       "      <td>gb_filt_sel_0</td>\n",
       "      <td>tpch_lineitem_1g_no_idx</td>\n",
       "      <td>run_3</td>\n",
       "      <td>0.035106</td>\n",
       "    </tr>\n",
       "    <tr>\n",
       "      <th>4</th>\n",
       "      <td>gb_filt_sel_0</td>\n",
       "      <td>tpch_lineitem_1g_no_idx</td>\n",
       "      <td>run_4</td>\n",
       "      <td>0.034149</td>\n",
       "    </tr>\n",
       "    <tr>\n",
       "      <th>...</th>\n",
       "      <td>...</td>\n",
       "      <td>...</td>\n",
       "      <td>...</td>\n",
       "      <td>...</td>\n",
       "    </tr>\n",
       "    <tr>\n",
       "      <th>655</th>\n",
       "      <td>gb_filt_sel_100</td>\n",
       "      <td>tpch_lineitem_10g</td>\n",
       "      <td>run_5</td>\n",
       "      <td>0.025567</td>\n",
       "    </tr>\n",
       "    <tr>\n",
       "      <th>656</th>\n",
       "      <td>gb_filt_sel_100</td>\n",
       "      <td>tpch_lineitem_10g</td>\n",
       "      <td>run_6</td>\n",
       "      <td>0.022164</td>\n",
       "    </tr>\n",
       "    <tr>\n",
       "      <th>657</th>\n",
       "      <td>gb_filt_sel_100</td>\n",
       "      <td>tpch_lineitem_10g</td>\n",
       "      <td>run_7</td>\n",
       "      <td>0.021417</td>\n",
       "    </tr>\n",
       "    <tr>\n",
       "      <th>658</th>\n",
       "      <td>gb_filt_sel_100</td>\n",
       "      <td>tpch_lineitem_10g</td>\n",
       "      <td>run_8</td>\n",
       "      <td>0.020472</td>\n",
       "    </tr>\n",
       "    <tr>\n",
       "      <th>659</th>\n",
       "      <td>gb_filt_sel_100</td>\n",
       "      <td>tpch_lineitem_10g</td>\n",
       "      <td>run_9</td>\n",
       "      <td>0.018511</td>\n",
       "    </tr>\n",
       "  </tbody>\n",
       "</table>\n",
       "<p>660 rows × 4 columns</p>\n",
       "</div>"
      ],
      "text/plain": [
       "                name                    table run_name      time\n",
       "0      gb_filt_sel_0  tpch_lineitem_1g_no_idx    run_0  0.043674\n",
       "1      gb_filt_sel_0  tpch_lineitem_1g_no_idx    run_1  0.022029\n",
       "2      gb_filt_sel_0  tpch_lineitem_1g_no_idx    run_2  0.021127\n",
       "3      gb_filt_sel_0  tpch_lineitem_1g_no_idx    run_3  0.035106\n",
       "4      gb_filt_sel_0  tpch_lineitem_1g_no_idx    run_4  0.034149\n",
       "..               ...                      ...      ...       ...\n",
       "655  gb_filt_sel_100        tpch_lineitem_10g    run_5  0.025567\n",
       "656  gb_filt_sel_100        tpch_lineitem_10g    run_6  0.022164\n",
       "657  gb_filt_sel_100        tpch_lineitem_10g    run_7  0.021417\n",
       "658  gb_filt_sel_100        tpch_lineitem_10g    run_8  0.020472\n",
       "659  gb_filt_sel_100        tpch_lineitem_10g    run_9  0.018511\n",
       "\n",
       "[660 rows x 4 columns]"
      ]
     },
     "execution_count": 3,
     "metadata": {},
     "output_type": "execute_result"
    }
   ],
   "source": [
    "res_df"
   ]
  },
  {
   "cell_type": "code",
   "execution_count": 38,
   "metadata": {},
   "outputs": [
    {
     "name": "stdout",
     "output_type": "stream",
     "text": [
      "                name                    table run_name      time  sel\n",
      "0      gb_filt_sel_0  tpch_lineitem_1g_no_idx    run_0  0.043674    0\n",
      "1      gb_filt_sel_0  tpch_lineitem_1g_no_idx    run_1  0.022029    0\n",
      "2      gb_filt_sel_0  tpch_lineitem_1g_no_idx    run_2  0.021127    0\n",
      "3      gb_filt_sel_0  tpch_lineitem_1g_no_idx    run_3  0.035106    0\n",
      "4      gb_filt_sel_0  tpch_lineitem_1g_no_idx    run_4  0.034149    0\n",
      "..               ...                      ...      ...       ...  ...\n",
      "105  gb_filt_sel_100  tpch_lineitem_1g_no_idx    run_5  0.034899  100\n",
      "106  gb_filt_sel_100  tpch_lineitem_1g_no_idx    run_6  0.022418  100\n",
      "107  gb_filt_sel_100  tpch_lineitem_1g_no_idx    run_7  0.039221  100\n",
      "108  gb_filt_sel_100  tpch_lineitem_1g_no_idx    run_8  0.034521  100\n",
      "109  gb_filt_sel_100  tpch_lineitem_1g_no_idx    run_9  0.049596  100\n",
      "\n",
      "[110 rows x 5 columns]     sel      time\n",
      "0     0  0.020512\n",
      "1    10  0.018896\n",
      "2    20  0.019125\n",
      "3    30  0.019369\n",
      "4    40  0.020235\n",
      "5    50  0.021051\n",
      "6    60  0.019508\n",
      "7    70  0.018571\n",
      "8    80  0.019441\n",
      "9    90  0.039952\n",
      "10  100  0.022418\n",
      "                name                        table run_name      time  sel\n",
      "110    gb_filt_sel_0  tpch_lineitem_1g_bitmap_idx    run_0  0.055692    0\n",
      "111    gb_filt_sel_0  tpch_lineitem_1g_bitmap_idx    run_1  0.061647    0\n",
      "112    gb_filt_sel_0  tpch_lineitem_1g_bitmap_idx    run_2  0.027406    0\n",
      "113    gb_filt_sel_0  tpch_lineitem_1g_bitmap_idx    run_3  0.035675    0\n",
      "114    gb_filt_sel_0  tpch_lineitem_1g_bitmap_idx    run_4  0.031121    0\n",
      "..               ...                          ...      ...       ...  ...\n",
      "215  gb_filt_sel_100  tpch_lineitem_1g_bitmap_idx    run_5  0.021049  100\n",
      "216  gb_filt_sel_100  tpch_lineitem_1g_bitmap_idx    run_6  0.018320  100\n",
      "217  gb_filt_sel_100  tpch_lineitem_1g_bitmap_idx    run_7  0.019157  100\n",
      "218  gb_filt_sel_100  tpch_lineitem_1g_bitmap_idx    run_8  0.019265  100\n",
      "219  gb_filt_sel_100  tpch_lineitem_1g_bitmap_idx    run_9  0.036703  100\n",
      "\n",
      "[110 rows x 5 columns]     sel      time\n",
      "0     0  0.019926\n",
      "1    10  0.019322\n",
      "2    20  0.019545\n",
      "3    30  0.019633\n",
      "4    40  0.018869\n",
      "5    50  0.018021\n",
      "6    60  0.019268\n",
      "7    70  0.018215\n",
      "8    80  0.019595\n",
      "9    90  0.034472\n",
      "10  100  0.018320\n",
      "                name             table run_name      time  sel\n",
      "220    gb_filt_sel_0  tpch_lineitem_1g    run_0  0.021956    0\n",
      "221    gb_filt_sel_0  tpch_lineitem_1g    run_1  0.021055    0\n",
      "222    gb_filt_sel_0  tpch_lineitem_1g    run_2  0.020176    0\n",
      "223    gb_filt_sel_0  tpch_lineitem_1g    run_3  0.018037    0\n",
      "224    gb_filt_sel_0  tpch_lineitem_1g    run_4  0.022649    0\n",
      "..               ...               ...      ...       ...  ...\n",
      "325  gb_filt_sel_100  tpch_lineitem_1g    run_5  0.020867  100\n",
      "326  gb_filt_sel_100  tpch_lineitem_1g    run_6  0.019682  100\n",
      "327  gb_filt_sel_100  tpch_lineitem_1g    run_7  0.027973  100\n",
      "328  gb_filt_sel_100  tpch_lineitem_1g    run_8  0.029218  100\n",
      "329  gb_filt_sel_100  tpch_lineitem_1g    run_9  0.020872  100\n",
      "\n",
      "[110 rows x 5 columns]     sel      time\n",
      "0     0  0.018037\n",
      "1    10  0.018386\n",
      "2    20  0.019485\n",
      "3    30  0.019929\n",
      "4    40  0.017594\n",
      "5    50  0.019139\n",
      "6    60  0.018271\n",
      "7    70  0.018044\n",
      "8    80  0.019216\n",
      "9    90  0.017019\n",
      "10  100  0.018343\n",
      "                name                     table run_name      time  sel\n",
      "330    gb_filt_sel_0  tpch_lineitem_10g_no_idx    run_0  0.030074    0\n",
      "331    gb_filt_sel_0  tpch_lineitem_10g_no_idx    run_1  0.022978    0\n",
      "332    gb_filt_sel_0  tpch_lineitem_10g_no_idx    run_2  0.019395    0\n",
      "333    gb_filt_sel_0  tpch_lineitem_10g_no_idx    run_3  0.019579    0\n",
      "334    gb_filt_sel_0  tpch_lineitem_10g_no_idx    run_4  0.018153    0\n",
      "..               ...                       ...      ...       ...  ...\n",
      "435  gb_filt_sel_100  tpch_lineitem_10g_no_idx    run_5  0.020230  100\n",
      "436  gb_filt_sel_100  tpch_lineitem_10g_no_idx    run_6  0.021163  100\n",
      "437  gb_filt_sel_100  tpch_lineitem_10g_no_idx    run_7  0.019697  100\n",
      "438  gb_filt_sel_100  tpch_lineitem_10g_no_idx    run_8  0.029690  100\n",
      "439  gb_filt_sel_100  tpch_lineitem_10g_no_idx    run_9  0.025601  100\n",
      "\n",
      "[110 rows x 5 columns]     sel      time\n",
      "0     0  0.017309\n",
      "1    10  0.019949\n",
      "2    20  0.018497\n",
      "3    30  0.019353\n",
      "4    40  0.018517\n",
      "5    50  0.018720\n",
      "6    60  0.020077\n",
      "7    70  0.019186\n",
      "8    80  0.018091\n",
      "9    90  0.270693\n",
      "10  100  0.019697\n",
      "                name                         table run_name      time  sel\n",
      "440    gb_filt_sel_0  tpch_lineitem_10g_bitmap_idx    run_0  0.019168    0\n",
      "441    gb_filt_sel_0  tpch_lineitem_10g_bitmap_idx    run_1  0.020195    0\n",
      "442    gb_filt_sel_0  tpch_lineitem_10g_bitmap_idx    run_2  0.025613    0\n",
      "443    gb_filt_sel_0  tpch_lineitem_10g_bitmap_idx    run_3  0.021797    0\n",
      "444    gb_filt_sel_0  tpch_lineitem_10g_bitmap_idx    run_4  0.028507    0\n",
      "..               ...                           ...      ...       ...  ...\n",
      "545  gb_filt_sel_100  tpch_lineitem_10g_bitmap_idx    run_5  0.018752  100\n",
      "546  gb_filt_sel_100  tpch_lineitem_10g_bitmap_idx    run_6  0.021984  100\n",
      "547  gb_filt_sel_100  tpch_lineitem_10g_bitmap_idx    run_7  0.024068  100\n",
      "548  gb_filt_sel_100  tpch_lineitem_10g_bitmap_idx    run_8  0.046287  100\n",
      "549  gb_filt_sel_100  tpch_lineitem_10g_bitmap_idx    run_9  0.053372  100\n",
      "\n",
      "[110 rows x 5 columns]     sel      time\n",
      "0     0  0.018028\n",
      "1    10  0.018705\n",
      "2    20  0.018884\n",
      "3    30  0.018935\n",
      "4    40  0.019751\n",
      "5    50  0.018725\n",
      "6    60  0.017696\n",
      "7    70  0.019440\n",
      "8    80  0.018528\n",
      "9    90  0.263944\n",
      "10  100  0.018752\n",
      "                name              table run_name      time  sel\n",
      "550    gb_filt_sel_0  tpch_lineitem_10g    run_0  0.028217    0\n",
      "551    gb_filt_sel_0  tpch_lineitem_10g    run_1  0.021040    0\n",
      "552    gb_filt_sel_0  tpch_lineitem_10g    run_2  0.022474    0\n",
      "553    gb_filt_sel_0  tpch_lineitem_10g    run_3  0.019060    0\n",
      "554    gb_filt_sel_0  tpch_lineitem_10g    run_4  0.020782    0\n",
      "..               ...                ...      ...       ...  ...\n",
      "655  gb_filt_sel_100  tpch_lineitem_10g    run_5  0.025567  100\n",
      "656  gb_filt_sel_100  tpch_lineitem_10g    run_6  0.022164  100\n",
      "657  gb_filt_sel_100  tpch_lineitem_10g    run_7  0.021417  100\n",
      "658  gb_filt_sel_100  tpch_lineitem_10g    run_8  0.020472  100\n",
      "659  gb_filt_sel_100  tpch_lineitem_10g    run_9  0.018511  100\n",
      "\n",
      "[110 rows x 5 columns]     sel      time\n",
      "0     0  0.018933\n",
      "1    10  0.020396\n",
      "2    20  0.018249\n",
      "3    30  0.018761\n",
      "4    40  0.018152\n",
      "5    50  0.020150\n",
      "6    60  0.018807\n",
      "7    70  0.019452\n",
      "8    80  0.017406\n",
      "9    90  0.018577\n",
      "10  100  0.018511\n"
     ]
    },
    {
     "name": "stderr",
     "output_type": "stream",
     "text": [
      "/home/kroot/.virtualenvs/pinot-index-benchmarking-9NES4Gek-py3.11/lib/python3.11/site-packages/plotly/graph_objs/_deprecations.py:378: DeprecationWarning:\n",
      "\n",
      "plotly.graph_objs.Line is deprecated.\n",
      "Please replace it with one of the following more specific types\n",
      "  - plotly.graph_objs.scatter.Line\n",
      "  - plotly.graph_objs.layout.shape.Line\n",
      "  - etc.\n",
      "\n",
      "\n",
      "/home/kroot/.virtualenvs/pinot-index-benchmarking-9NES4Gek-py3.11/lib/python3.11/site-packages/plotly/graph_objs/_deprecations.py:378: DeprecationWarning:\n",
      "\n",
      "plotly.graph_objs.Line is deprecated.\n",
      "Please replace it with one of the following more specific types\n",
      "  - plotly.graph_objs.scatter.Line\n",
      "  - plotly.graph_objs.layout.shape.Line\n",
      "  - etc.\n",
      "\n",
      "\n",
      "/home/kroot/.virtualenvs/pinot-index-benchmarking-9NES4Gek-py3.11/lib/python3.11/site-packages/plotly/graph_objs/_deprecations.py:378: DeprecationWarning:\n",
      "\n",
      "plotly.graph_objs.Line is deprecated.\n",
      "Please replace it with one of the following more specific types\n",
      "  - plotly.graph_objs.scatter.Line\n",
      "  - plotly.graph_objs.layout.shape.Line\n",
      "  - etc.\n",
      "\n",
      "\n",
      "/home/kroot/.virtualenvs/pinot-index-benchmarking-9NES4Gek-py3.11/lib/python3.11/site-packages/plotly/graph_objs/_deprecations.py:378: DeprecationWarning:\n",
      "\n",
      "plotly.graph_objs.Line is deprecated.\n",
      "Please replace it with one of the following more specific types\n",
      "  - plotly.graph_objs.scatter.Line\n",
      "  - plotly.graph_objs.layout.shape.Line\n",
      "  - etc.\n",
      "\n",
      "\n",
      "/home/kroot/.virtualenvs/pinot-index-benchmarking-9NES4Gek-py3.11/lib/python3.11/site-packages/plotly/graph_objs/_deprecations.py:378: DeprecationWarning:\n",
      "\n",
      "plotly.graph_objs.Line is deprecated.\n",
      "Please replace it with one of the following more specific types\n",
      "  - plotly.graph_objs.scatter.Line\n",
      "  - plotly.graph_objs.layout.shape.Line\n",
      "  - etc.\n",
      "\n",
      "\n",
      "/home/kroot/.virtualenvs/pinot-index-benchmarking-9NES4Gek-py3.11/lib/python3.11/site-packages/plotly/graph_objs/_deprecations.py:378: DeprecationWarning:\n",
      "\n",
      "plotly.graph_objs.Line is deprecated.\n",
      "Please replace it with one of the following more specific types\n",
      "  - plotly.graph_objs.scatter.Line\n",
      "  - plotly.graph_objs.layout.shape.Line\n",
      "  - etc.\n",
      "\n",
      "\n"
     ]
    },
    {
     "data": {
      "application/vnd.plotly.v1+json": {
       "config": {
        "plotlyServerURL": "https://plot.ly"
       },
       "data": [
        {
         "name": "1g_no_idx",
         "type": "scatter",
         "x": [
          0,
          10,
          20,
          30,
          40,
          50,
          60,
          70,
          80,
          90,
          100
         ],
         "y": [
          0.0205121040344238,
          0.0188956260681152,
          0.0191249847412109,
          0.0193688869476318,
          0.0202345848083496,
          0.0210506916046142,
          0.0195083618164062,
          0.0185708999633789,
          0.0194408893585205,
          0.0399520397186279,
          0.0224180221557617
         ]
        },
        {
         "name": "1g_bitmap_idx",
         "type": "scatter",
         "x": [
          0,
          10,
          20,
          30,
          40,
          50,
          60,
          70,
          80,
          90,
          100
         ],
         "y": [
          0.0199263095855712,
          0.0193216800689697,
          0.0195453166961669,
          0.0196332931518554,
          0.0188691616058349,
          0.0180213451385498,
          0.0192675590515136,
          0.0182151794433593,
          0.0195953845977783,
          0.0344715118408203,
          0.0183198451995849
         ]
        },
        {
         "name": "1g",
         "type": "scatter",
         "x": [
          0,
          10,
          20,
          30,
          40,
          50,
          60,
          70,
          80,
          90,
          100
         ],
         "y": [
          0.0180373191833496,
          0.0183863639831542,
          0.0194847583770751,
          0.0199289321899414,
          0.0175943374633789,
          0.0191385746002197,
          0.0182714462280273,
          0.0180444717407226,
          0.0192162990570068,
          0.0170187950134277,
          0.0183429718017578
         ]
        },
        {
         "name": "10g_no_idx",
         "type": "scatter",
         "x": [
          0,
          10,
          20,
          30,
          40,
          50,
          60,
          70,
          80,
          90,
          100
         ],
         "y": [
          0.0173094272613525,
          0.0199487209320068,
          0.0184965133666992,
          0.019352912902832,
          0.0185170173645019,
          0.0187203884124755,
          0.0200769901275634,
          0.0191860198974609,
          0.0180907249450683,
          0.270693302154541,
          0.0196974277496337
         ]
        },
        {
         "name": "10g_bitmap_idx",
         "type": "scatter",
         "x": [
          0,
          10,
          20,
          30,
          40,
          50,
          60,
          70,
          80,
          90,
          100
         ],
         "y": [
          0.0180280208587646,
          0.0187053680419921,
          0.0188841819763183,
          0.0189349651336669,
          0.0197513103485107,
          0.0187253952026367,
          0.017695665359497,
          0.019439697265625,
          0.0185284614562988,
          0.2639439105987549,
          0.0187516212463378
         ]
        },
        {
         "name": "10g",
         "type": "scatter",
         "x": [
          0,
          10,
          20,
          30,
          40,
          50,
          60,
          70,
          80,
          90,
          100
         ],
         "y": [
          0.018932819366455,
          0.0203964710235595,
          0.0182490348815917,
          0.018761396408081,
          0.0181519985198974,
          0.0201504230499267,
          0.0188069343566894,
          0.01945161819458,
          0.0174062252044677,
          0.0185773372650146,
          0.0185105800628662
         ]
        }
       ],
       "layout": {
        "template": {
         "data": {
          "bar": [
           {
            "error_x": {
             "color": "#2a3f5f"
            },
            "error_y": {
             "color": "#2a3f5f"
            },
            "marker": {
             "line": {
              "color": "#E5ECF6",
              "width": 0.5
             },
             "pattern": {
              "fillmode": "overlay",
              "size": 10,
              "solidity": 0.2
             }
            },
            "type": "bar"
           }
          ],
          "barpolar": [
           {
            "marker": {
             "line": {
              "color": "#E5ECF6",
              "width": 0.5
             },
             "pattern": {
              "fillmode": "overlay",
              "size": 10,
              "solidity": 0.2
             }
            },
            "type": "barpolar"
           }
          ],
          "carpet": [
           {
            "aaxis": {
             "endlinecolor": "#2a3f5f",
             "gridcolor": "white",
             "linecolor": "white",
             "minorgridcolor": "white",
             "startlinecolor": "#2a3f5f"
            },
            "baxis": {
             "endlinecolor": "#2a3f5f",
             "gridcolor": "white",
             "linecolor": "white",
             "minorgridcolor": "white",
             "startlinecolor": "#2a3f5f"
            },
            "type": "carpet"
           }
          ],
          "choropleth": [
           {
            "colorbar": {
             "outlinewidth": 0,
             "ticks": ""
            },
            "type": "choropleth"
           }
          ],
          "contour": [
           {
            "colorbar": {
             "outlinewidth": 0,
             "ticks": ""
            },
            "colorscale": [
             [
              0,
              "#0d0887"
             ],
             [
              0.1111111111111111,
              "#46039f"
             ],
             [
              0.2222222222222222,
              "#7201a8"
             ],
             [
              0.3333333333333333,
              "#9c179e"
             ],
             [
              0.4444444444444444,
              "#bd3786"
             ],
             [
              0.5555555555555556,
              "#d8576b"
             ],
             [
              0.6666666666666666,
              "#ed7953"
             ],
             [
              0.7777777777777778,
              "#fb9f3a"
             ],
             [
              0.8888888888888888,
              "#fdca26"
             ],
             [
              1,
              "#f0f921"
             ]
            ],
            "type": "contour"
           }
          ],
          "contourcarpet": [
           {
            "colorbar": {
             "outlinewidth": 0,
             "ticks": ""
            },
            "type": "contourcarpet"
           }
          ],
          "heatmap": [
           {
            "colorbar": {
             "outlinewidth": 0,
             "ticks": ""
            },
            "colorscale": [
             [
              0,
              "#0d0887"
             ],
             [
              0.1111111111111111,
              "#46039f"
             ],
             [
              0.2222222222222222,
              "#7201a8"
             ],
             [
              0.3333333333333333,
              "#9c179e"
             ],
             [
              0.4444444444444444,
              "#bd3786"
             ],
             [
              0.5555555555555556,
              "#d8576b"
             ],
             [
              0.6666666666666666,
              "#ed7953"
             ],
             [
              0.7777777777777778,
              "#fb9f3a"
             ],
             [
              0.8888888888888888,
              "#fdca26"
             ],
             [
              1,
              "#f0f921"
             ]
            ],
            "type": "heatmap"
           }
          ],
          "heatmapgl": [
           {
            "colorbar": {
             "outlinewidth": 0,
             "ticks": ""
            },
            "colorscale": [
             [
              0,
              "#0d0887"
             ],
             [
              0.1111111111111111,
              "#46039f"
             ],
             [
              0.2222222222222222,
              "#7201a8"
             ],
             [
              0.3333333333333333,
              "#9c179e"
             ],
             [
              0.4444444444444444,
              "#bd3786"
             ],
             [
              0.5555555555555556,
              "#d8576b"
             ],
             [
              0.6666666666666666,
              "#ed7953"
             ],
             [
              0.7777777777777778,
              "#fb9f3a"
             ],
             [
              0.8888888888888888,
              "#fdca26"
             ],
             [
              1,
              "#f0f921"
             ]
            ],
            "type": "heatmapgl"
           }
          ],
          "histogram": [
           {
            "marker": {
             "pattern": {
              "fillmode": "overlay",
              "size": 10,
              "solidity": 0.2
             }
            },
            "type": "histogram"
           }
          ],
          "histogram2d": [
           {
            "colorbar": {
             "outlinewidth": 0,
             "ticks": ""
            },
            "colorscale": [
             [
              0,
              "#0d0887"
             ],
             [
              0.1111111111111111,
              "#46039f"
             ],
             [
              0.2222222222222222,
              "#7201a8"
             ],
             [
              0.3333333333333333,
              "#9c179e"
             ],
             [
              0.4444444444444444,
              "#bd3786"
             ],
             [
              0.5555555555555556,
              "#d8576b"
             ],
             [
              0.6666666666666666,
              "#ed7953"
             ],
             [
              0.7777777777777778,
              "#fb9f3a"
             ],
             [
              0.8888888888888888,
              "#fdca26"
             ],
             [
              1,
              "#f0f921"
             ]
            ],
            "type": "histogram2d"
           }
          ],
          "histogram2dcontour": [
           {
            "colorbar": {
             "outlinewidth": 0,
             "ticks": ""
            },
            "colorscale": [
             [
              0,
              "#0d0887"
             ],
             [
              0.1111111111111111,
              "#46039f"
             ],
             [
              0.2222222222222222,
              "#7201a8"
             ],
             [
              0.3333333333333333,
              "#9c179e"
             ],
             [
              0.4444444444444444,
              "#bd3786"
             ],
             [
              0.5555555555555556,
              "#d8576b"
             ],
             [
              0.6666666666666666,
              "#ed7953"
             ],
             [
              0.7777777777777778,
              "#fb9f3a"
             ],
             [
              0.8888888888888888,
              "#fdca26"
             ],
             [
              1,
              "#f0f921"
             ]
            ],
            "type": "histogram2dcontour"
           }
          ],
          "mesh3d": [
           {
            "colorbar": {
             "outlinewidth": 0,
             "ticks": ""
            },
            "type": "mesh3d"
           }
          ],
          "parcoords": [
           {
            "line": {
             "colorbar": {
              "outlinewidth": 0,
              "ticks": ""
             }
            },
            "type": "parcoords"
           }
          ],
          "pie": [
           {
            "automargin": true,
            "type": "pie"
           }
          ],
          "scatter": [
           {
            "fillpattern": {
             "fillmode": "overlay",
             "size": 10,
             "solidity": 0.2
            },
            "type": "scatter"
           }
          ],
          "scatter3d": [
           {
            "line": {
             "colorbar": {
              "outlinewidth": 0,
              "ticks": ""
             }
            },
            "marker": {
             "colorbar": {
              "outlinewidth": 0,
              "ticks": ""
             }
            },
            "type": "scatter3d"
           }
          ],
          "scattercarpet": [
           {
            "marker": {
             "colorbar": {
              "outlinewidth": 0,
              "ticks": ""
             }
            },
            "type": "scattercarpet"
           }
          ],
          "scattergeo": [
           {
            "marker": {
             "colorbar": {
              "outlinewidth": 0,
              "ticks": ""
             }
            },
            "type": "scattergeo"
           }
          ],
          "scattergl": [
           {
            "marker": {
             "colorbar": {
              "outlinewidth": 0,
              "ticks": ""
             }
            },
            "type": "scattergl"
           }
          ],
          "scattermapbox": [
           {
            "marker": {
             "colorbar": {
              "outlinewidth": 0,
              "ticks": ""
             }
            },
            "type": "scattermapbox"
           }
          ],
          "scatterpolar": [
           {
            "marker": {
             "colorbar": {
              "outlinewidth": 0,
              "ticks": ""
             }
            },
            "type": "scatterpolar"
           }
          ],
          "scatterpolargl": [
           {
            "marker": {
             "colorbar": {
              "outlinewidth": 0,
              "ticks": ""
             }
            },
            "type": "scatterpolargl"
           }
          ],
          "scatterternary": [
           {
            "marker": {
             "colorbar": {
              "outlinewidth": 0,
              "ticks": ""
             }
            },
            "type": "scatterternary"
           }
          ],
          "surface": [
           {
            "colorbar": {
             "outlinewidth": 0,
             "ticks": ""
            },
            "colorscale": [
             [
              0,
              "#0d0887"
             ],
             [
              0.1111111111111111,
              "#46039f"
             ],
             [
              0.2222222222222222,
              "#7201a8"
             ],
             [
              0.3333333333333333,
              "#9c179e"
             ],
             [
              0.4444444444444444,
              "#bd3786"
             ],
             [
              0.5555555555555556,
              "#d8576b"
             ],
             [
              0.6666666666666666,
              "#ed7953"
             ],
             [
              0.7777777777777778,
              "#fb9f3a"
             ],
             [
              0.8888888888888888,
              "#fdca26"
             ],
             [
              1,
              "#f0f921"
             ]
            ],
            "type": "surface"
           }
          ],
          "table": [
           {
            "cells": {
             "fill": {
              "color": "#EBF0F8"
             },
             "line": {
              "color": "white"
             }
            },
            "header": {
             "fill": {
              "color": "#C8D4E3"
             },
             "line": {
              "color": "white"
             }
            },
            "type": "table"
           }
          ]
         },
         "layout": {
          "annotationdefaults": {
           "arrowcolor": "#2a3f5f",
           "arrowhead": 0,
           "arrowwidth": 1
          },
          "autotypenumbers": "strict",
          "coloraxis": {
           "colorbar": {
            "outlinewidth": 0,
            "ticks": ""
           }
          },
          "colorscale": {
           "diverging": [
            [
             0,
             "#8e0152"
            ],
            [
             0.1,
             "#c51b7d"
            ],
            [
             0.2,
             "#de77ae"
            ],
            [
             0.3,
             "#f1b6da"
            ],
            [
             0.4,
             "#fde0ef"
            ],
            [
             0.5,
             "#f7f7f7"
            ],
            [
             0.6,
             "#e6f5d0"
            ],
            [
             0.7,
             "#b8e186"
            ],
            [
             0.8,
             "#7fbc41"
            ],
            [
             0.9,
             "#4d9221"
            ],
            [
             1,
             "#276419"
            ]
           ],
           "sequential": [
            [
             0,
             "#0d0887"
            ],
            [
             0.1111111111111111,
             "#46039f"
            ],
            [
             0.2222222222222222,
             "#7201a8"
            ],
            [
             0.3333333333333333,
             "#9c179e"
            ],
            [
             0.4444444444444444,
             "#bd3786"
            ],
            [
             0.5555555555555556,
             "#d8576b"
            ],
            [
             0.6666666666666666,
             "#ed7953"
            ],
            [
             0.7777777777777778,
             "#fb9f3a"
            ],
            [
             0.8888888888888888,
             "#fdca26"
            ],
            [
             1,
             "#f0f921"
            ]
           ],
           "sequentialminus": [
            [
             0,
             "#0d0887"
            ],
            [
             0.1111111111111111,
             "#46039f"
            ],
            [
             0.2222222222222222,
             "#7201a8"
            ],
            [
             0.3333333333333333,
             "#9c179e"
            ],
            [
             0.4444444444444444,
             "#bd3786"
            ],
            [
             0.5555555555555556,
             "#d8576b"
            ],
            [
             0.6666666666666666,
             "#ed7953"
            ],
            [
             0.7777777777777778,
             "#fb9f3a"
            ],
            [
             0.8888888888888888,
             "#fdca26"
            ],
            [
             1,
             "#f0f921"
            ]
           ]
          },
          "colorway": [
           "#636efa",
           "#EF553B",
           "#00cc96",
           "#ab63fa",
           "#FFA15A",
           "#19d3f3",
           "#FF6692",
           "#B6E880",
           "#FF97FF",
           "#FECB52"
          ],
          "font": {
           "color": "#2a3f5f"
          },
          "geo": {
           "bgcolor": "white",
           "lakecolor": "white",
           "landcolor": "#E5ECF6",
           "showlakes": true,
           "showland": true,
           "subunitcolor": "white"
          },
          "hoverlabel": {
           "align": "left"
          },
          "hovermode": "closest",
          "mapbox": {
           "style": "light"
          },
          "paper_bgcolor": "white",
          "plot_bgcolor": "#E5ECF6",
          "polar": {
           "angularaxis": {
            "gridcolor": "white",
            "linecolor": "white",
            "ticks": ""
           },
           "bgcolor": "#E5ECF6",
           "radialaxis": {
            "gridcolor": "white",
            "linecolor": "white",
            "ticks": ""
           }
          },
          "scene": {
           "xaxis": {
            "backgroundcolor": "#E5ECF6",
            "gridcolor": "white",
            "gridwidth": 2,
            "linecolor": "white",
            "showbackground": true,
            "ticks": "",
            "zerolinecolor": "white"
           },
           "yaxis": {
            "backgroundcolor": "#E5ECF6",
            "gridcolor": "white",
            "gridwidth": 2,
            "linecolor": "white",
            "showbackground": true,
            "ticks": "",
            "zerolinecolor": "white"
           },
           "zaxis": {
            "backgroundcolor": "#E5ECF6",
            "gridcolor": "white",
            "gridwidth": 2,
            "linecolor": "white",
            "showbackground": true,
            "ticks": "",
            "zerolinecolor": "white"
           }
          },
          "shapedefaults": {
           "line": {
            "color": "#2a3f5f"
           }
          },
          "ternary": {
           "aaxis": {
            "gridcolor": "white",
            "linecolor": "white",
            "ticks": ""
           },
           "baxis": {
            "gridcolor": "white",
            "linecolor": "white",
            "ticks": ""
           },
           "bgcolor": "#E5ECF6",
           "caxis": {
            "gridcolor": "white",
            "linecolor": "white",
            "ticks": ""
           }
          },
          "title": {
           "x": 0.05
          },
          "xaxis": {
           "automargin": true,
           "gridcolor": "white",
           "linecolor": "white",
           "ticks": "",
           "title": {
            "standoff": 15
           },
           "zerolinecolor": "white",
           "zerolinewidth": 2
          },
          "yaxis": {
           "automargin": true,
           "gridcolor": "white",
           "linecolor": "white",
           "ticks": "",
           "title": {
            "standoff": 15
           },
           "zerolinecolor": "white",
           "zerolinewidth": 2
          }
         }
        }
       }
      }
     },
     "metadata": {},
     "output_type": "display_data"
    }
   ],
   "source": [
    "# filter res_df by table name\n",
    "# split df into multiple dfs by table name\n",
    "sel_df = res_df[res_df['name'].str.contains('sel')].copy()\n",
    "sel_df['sel'] = (sel_df['name'].str.rsplit('_', n=1).str[-1]).astype(int)\n",
    "lg = go.Figure()\n",
    "tablenames = sel_df['table'].unique()\n",
    "for table in tablenames:\n",
    "    df = sel_df[sel_df['table'] == table]\n",
    "    df = df.sort_values(by=['sel', 'run_name'])\n",
    "    times: pd.DataFrame = df.groupby('sel', as_index=False)['time'].min()\n",
    "    # only keep multiples of 20\n",
    "    # times = times.loc[times['sel'] % 20 == 0]\n",
    "    print(df, times)\n",
    "    lg.add_trace(go.Line(x=times['sel'], y=times['time'], name=table.removeprefix('tpch_lineitem_')))\n",
    "    # break\n",
    "    # # fig = px.line(df, x='size', y='time', title=f'{table} - Time vs Size')\n",
    "    # # fig.show()\n",
    "lg.show()\n",
    "\n",
    "# for each df, plot the results\n",
    "# save the results\n"
   ]
  },
  {
   "cell_type": "markdown",
   "metadata": {},
   "source": [
    "# StarTree Index sizes"
   ]
  },
  {
   "cell_type": "code",
   "execution_count": 40,
   "metadata": {},
   "outputs": [],
   "source": [
    "def extract_st_idx_size(file:Path):\n",
    "    \"\"\"Takes CSV file of the form:\n",
    "    Property,Sizes\n",
    "    0.null.STAR_TREE.SIZE,\"1438573, 309865, 2961549\"\n",
    "    0.l_receiptdate.FORWARD_INDEX.SIZE,\"193607, 94334, 315228\n",
    "    ...\n",
    "    First column is the property name (table column)\n",
    "    And second column is the size of each segment on that server\n",
    "\n",
    "    Returns sum of all sizes across all segments\n",
    "    \"\"\"\n",
    "    df = pd.read_csv(file)\n",
    "    sizes = df['Sizes']\n",
    "    sizes = sizes.str.split(', ')\n",
    "    sizes = sizes.apply(lambda x: sum(map(int, x)))\n",
    "    return sizes.sum()\n",
    "    "
   ]
  },
  {
   "cell_type": "code",
   "execution_count": 41,
   "metadata": {},
   "outputs": [],
   "source": [
    "def extract_threshold(name:str):\n",
    "    \"\"\"1g_star_idx_10_sizes_server1.csv -> 10\"\"\"\n",
    "    return int(name.split('_')[3])"
   ]
  },
  {
   "cell_type": "code",
   "execution_count": 43,
   "metadata": {},
   "outputs": [],
   "source": [
    "from collections import defaultdict"
   ]
  },
  {
   "cell_type": "code",
   "execution_count": 44,
   "metadata": {},
   "outputs": [
    {
     "name": "stdout",
     "output_type": "stream",
     "text": [
      "csv_out_star_T_server_2\n",
      "csv_out_star_T_server_1\n"
     ]
    }
   ],
   "source": [
    "STAR_TREE_SIZES_DIR = Path('results/star_tree_index_size_T/')\n",
    "assert STAR_TREE_SIZES_DIR.exists()\n",
    "\n",
    "sizes = defaultdict(int)\n",
    "\n",
    "for server_dir in STAR_TREE_SIZES_DIR.iterdir():\n",
    "    server_name = server_dir.name\n",
    "    print(server_name)\n",
    "    for file in server_dir.iterdir():\n",
    "        if \"index_map\" in file.name:\n",
    "            continue\n",
    "        threshold = extract_threshold(file.name)\n",
    "        size = extract_st_idx_size(file)\n",
    "        sizes[threshold] += size\n",
    "\n",
    "sizes = dict(sizes)\n",
    "\n",
    "        "
   ]
  }
 ],
 "metadata": {
  "kernelspec": {
   "display_name": "pinot-index-benchmarking-9NES4Gek-py3.11",
   "language": "python",
   "name": "python3"
  },
  "language_info": {
   "codemirror_mode": {
    "name": "ipython",
    "version": 3
   },
   "file_extension": ".py",
   "mimetype": "text/x-python",
   "name": "python",
   "nbconvert_exporter": "python",
   "pygments_lexer": "ipython3",
   "version": "3.11.6"
  }
 },
 "nbformat": 4,
 "nbformat_minor": 2
}
